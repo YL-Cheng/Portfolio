{
  "nbformat": 4,
  "nbformat_minor": 0,
  "metadata": {
    "kernelspec": {
      "display_name": "Python 3",
      "language": "python",
      "name": "python3"
    },
    "language_info": {
      "codemirror_mode": {
        "name": "ipython",
        "version": 3
      },
      "file_extension": ".py",
      "mimetype": "text/x-python",
      "name": "python",
      "nbconvert_exporter": "python",
      "pygments_lexer": "ipython3",
      "version": "3.7.4"
    },
    "colab": {
      "name": "TextMining_3.ipynb",
      "provenance": [],
      "collapsed_sections": [],
      "toc_visible": true
    },
    "widgets": {
      "application/vnd.jupyter.widget-state+json": {
        "e0c88dfe14db4580bb68770843515287": {
          "model_module": "@jupyter-widgets/controls",
          "model_name": "HBoxModel",
          "state": {
            "_view_name": "HBoxView",
            "_dom_classes": [],
            "_model_name": "HBoxModel",
            "_view_module": "@jupyter-widgets/controls",
            "_model_module_version": "1.5.0",
            "_view_count": null,
            "_view_module_version": "1.5.0",
            "box_style": "",
            "layout": "IPY_MODEL_85865543e5844de088490f362ee926d4",
            "_model_module": "@jupyter-widgets/controls",
            "children": [
              "IPY_MODEL_c420826ebd45434387243e606a46c4f3",
              "IPY_MODEL_8ff1a8711e6349118d0ec2f7df0f16ec"
            ]
          }
        },
        "85865543e5844de088490f362ee926d4": {
          "model_module": "@jupyter-widgets/base",
          "model_name": "LayoutModel",
          "state": {
            "_view_name": "LayoutView",
            "grid_template_rows": null,
            "right": null,
            "justify_content": null,
            "_view_module": "@jupyter-widgets/base",
            "overflow": null,
            "_model_module_version": "1.2.0",
            "_view_count": null,
            "flex_flow": null,
            "width": null,
            "min_width": null,
            "border": null,
            "align_items": null,
            "bottom": null,
            "_model_module": "@jupyter-widgets/base",
            "top": null,
            "grid_column": null,
            "overflow_y": null,
            "overflow_x": null,
            "grid_auto_flow": null,
            "grid_area": null,
            "grid_template_columns": null,
            "flex": null,
            "_model_name": "LayoutModel",
            "justify_items": null,
            "grid_row": null,
            "max_height": null,
            "align_content": null,
            "visibility": null,
            "align_self": null,
            "height": null,
            "min_height": null,
            "padding": null,
            "grid_auto_rows": null,
            "grid_gap": null,
            "max_width": null,
            "order": null,
            "_view_module_version": "1.2.0",
            "grid_template_areas": null,
            "object_position": null,
            "object_fit": null,
            "grid_auto_columns": null,
            "margin": null,
            "display": null,
            "left": null
          }
        },
        "c420826ebd45434387243e606a46c4f3": {
          "model_module": "@jupyter-widgets/controls",
          "model_name": "FloatProgressModel",
          "state": {
            "_view_name": "ProgressView",
            "style": "IPY_MODEL_408d5855865940c3a3137ea8029eaa1e",
            "_dom_classes": [],
            "description": "Downloading: 100%",
            "_model_name": "FloatProgressModel",
            "bar_style": "success",
            "max": 109540,
            "_view_module": "@jupyter-widgets/controls",
            "_model_module_version": "1.5.0",
            "value": 109540,
            "_view_count": null,
            "_view_module_version": "1.5.0",
            "orientation": "horizontal",
            "min": 0,
            "description_tooltip": null,
            "_model_module": "@jupyter-widgets/controls",
            "layout": "IPY_MODEL_7f39b0f8847f4331a904b3d0b1790b10"
          }
        },
        "8ff1a8711e6349118d0ec2f7df0f16ec": {
          "model_module": "@jupyter-widgets/controls",
          "model_name": "HTMLModel",
          "state": {
            "_view_name": "HTMLView",
            "style": "IPY_MODEL_6f96303ecccb4af0bdc5dffeeb1424c9",
            "_dom_classes": [],
            "description": "",
            "_model_name": "HTMLModel",
            "placeholder": "​",
            "_view_module": "@jupyter-widgets/controls",
            "_model_module_version": "1.5.0",
            "value": " 110k/110k [00:00&lt;00:00, 318kB/s]",
            "_view_count": null,
            "_view_module_version": "1.5.0",
            "description_tooltip": null,
            "_model_module": "@jupyter-widgets/controls",
            "layout": "IPY_MODEL_9b9a509f31084dd3a18b6818adc781a8"
          }
        },
        "408d5855865940c3a3137ea8029eaa1e": {
          "model_module": "@jupyter-widgets/controls",
          "model_name": "ProgressStyleModel",
          "state": {
            "_view_name": "StyleView",
            "_model_name": "ProgressStyleModel",
            "description_width": "initial",
            "_view_module": "@jupyter-widgets/base",
            "_model_module_version": "1.5.0",
            "_view_count": null,
            "_view_module_version": "1.2.0",
            "bar_color": null,
            "_model_module": "@jupyter-widgets/controls"
          }
        },
        "7f39b0f8847f4331a904b3d0b1790b10": {
          "model_module": "@jupyter-widgets/base",
          "model_name": "LayoutModel",
          "state": {
            "_view_name": "LayoutView",
            "grid_template_rows": null,
            "right": null,
            "justify_content": null,
            "_view_module": "@jupyter-widgets/base",
            "overflow": null,
            "_model_module_version": "1.2.0",
            "_view_count": null,
            "flex_flow": null,
            "width": null,
            "min_width": null,
            "border": null,
            "align_items": null,
            "bottom": null,
            "_model_module": "@jupyter-widgets/base",
            "top": null,
            "grid_column": null,
            "overflow_y": null,
            "overflow_x": null,
            "grid_auto_flow": null,
            "grid_area": null,
            "grid_template_columns": null,
            "flex": null,
            "_model_name": "LayoutModel",
            "justify_items": null,
            "grid_row": null,
            "max_height": null,
            "align_content": null,
            "visibility": null,
            "align_self": null,
            "height": null,
            "min_height": null,
            "padding": null,
            "grid_auto_rows": null,
            "grid_gap": null,
            "max_width": null,
            "order": null,
            "_view_module_version": "1.2.0",
            "grid_template_areas": null,
            "object_position": null,
            "object_fit": null,
            "grid_auto_columns": null,
            "margin": null,
            "display": null,
            "left": null
          }
        },
        "6f96303ecccb4af0bdc5dffeeb1424c9": {
          "model_module": "@jupyter-widgets/controls",
          "model_name": "DescriptionStyleModel",
          "state": {
            "_view_name": "StyleView",
            "_model_name": "DescriptionStyleModel",
            "description_width": "",
            "_view_module": "@jupyter-widgets/base",
            "_model_module_version": "1.5.0",
            "_view_count": null,
            "_view_module_version": "1.2.0",
            "_model_module": "@jupyter-widgets/controls"
          }
        },
        "9b9a509f31084dd3a18b6818adc781a8": {
          "model_module": "@jupyter-widgets/base",
          "model_name": "LayoutModel",
          "state": {
            "_view_name": "LayoutView",
            "grid_template_rows": null,
            "right": null,
            "justify_content": null,
            "_view_module": "@jupyter-widgets/base",
            "overflow": null,
            "_model_module_version": "1.2.0",
            "_view_count": null,
            "flex_flow": null,
            "width": null,
            "min_width": null,
            "border": null,
            "align_items": null,
            "bottom": null,
            "_model_module": "@jupyter-widgets/base",
            "top": null,
            "grid_column": null,
            "overflow_y": null,
            "overflow_x": null,
            "grid_auto_flow": null,
            "grid_area": null,
            "grid_template_columns": null,
            "flex": null,
            "_model_name": "LayoutModel",
            "justify_items": null,
            "grid_row": null,
            "max_height": null,
            "align_content": null,
            "visibility": null,
            "align_self": null,
            "height": null,
            "min_height": null,
            "padding": null,
            "grid_auto_rows": null,
            "grid_gap": null,
            "max_width": null,
            "order": null,
            "_view_module_version": "1.2.0",
            "grid_template_areas": null,
            "object_position": null,
            "object_fit": null,
            "grid_auto_columns": null,
            "margin": null,
            "display": null,
            "left": null
          }
        },
        "da4a8d409a194d338cda6e0732b760e8": {
          "model_module": "@jupyter-widgets/controls",
          "model_name": "HBoxModel",
          "state": {
            "_view_name": "HBoxView",
            "_dom_classes": [],
            "_model_name": "HBoxModel",
            "_view_module": "@jupyter-widgets/controls",
            "_model_module_version": "1.5.0",
            "_view_count": null,
            "_view_module_version": "1.5.0",
            "box_style": "",
            "layout": "IPY_MODEL_d98b11ed1b3a495982e760ce38ec83cf",
            "_model_module": "@jupyter-widgets/controls",
            "children": [
              "IPY_MODEL_08100e1fd73d45a2b447447fd81e3caf",
              "IPY_MODEL_de783c2d44f84f66ba2a5678af30819d"
            ]
          }
        },
        "d98b11ed1b3a495982e760ce38ec83cf": {
          "model_module": "@jupyter-widgets/base",
          "model_name": "LayoutModel",
          "state": {
            "_view_name": "LayoutView",
            "grid_template_rows": null,
            "right": null,
            "justify_content": null,
            "_view_module": "@jupyter-widgets/base",
            "overflow": null,
            "_model_module_version": "1.2.0",
            "_view_count": null,
            "flex_flow": null,
            "width": null,
            "min_width": null,
            "border": null,
            "align_items": null,
            "bottom": null,
            "_model_module": "@jupyter-widgets/base",
            "top": null,
            "grid_column": null,
            "overflow_y": null,
            "overflow_x": null,
            "grid_auto_flow": null,
            "grid_area": null,
            "grid_template_columns": null,
            "flex": null,
            "_model_name": "LayoutModel",
            "justify_items": null,
            "grid_row": null,
            "max_height": null,
            "align_content": null,
            "visibility": null,
            "align_self": null,
            "height": null,
            "min_height": null,
            "padding": null,
            "grid_auto_rows": null,
            "grid_gap": null,
            "max_width": null,
            "order": null,
            "_view_module_version": "1.2.0",
            "grid_template_areas": null,
            "object_position": null,
            "object_fit": null,
            "grid_auto_columns": null,
            "margin": null,
            "display": null,
            "left": null
          }
        },
        "08100e1fd73d45a2b447447fd81e3caf": {
          "model_module": "@jupyter-widgets/controls",
          "model_name": "FloatProgressModel",
          "state": {
            "_view_name": "ProgressView",
            "style": "IPY_MODEL_005ae016690c437580040049d93a1096",
            "_dom_classes": [],
            "description": "Downloading: 100%",
            "_model_name": "FloatProgressModel",
            "bar_style": "success",
            "max": 29,
            "_view_module": "@jupyter-widgets/controls",
            "_model_module_version": "1.5.0",
            "value": 29,
            "_view_count": null,
            "_view_module_version": "1.5.0",
            "orientation": "horizontal",
            "min": 0,
            "description_tooltip": null,
            "_model_module": "@jupyter-widgets/controls",
            "layout": "IPY_MODEL_59ac100473f2440a86e93c6c5441e94b"
          }
        },
        "de783c2d44f84f66ba2a5678af30819d": {
          "model_module": "@jupyter-widgets/controls",
          "model_name": "HTMLModel",
          "state": {
            "_view_name": "HTMLView",
            "style": "IPY_MODEL_633c3d81db4445b095a1ba7d3108cf1f",
            "_dom_classes": [],
            "description": "",
            "_model_name": "HTMLModel",
            "placeholder": "​",
            "_view_module": "@jupyter-widgets/controls",
            "_model_module_version": "1.5.0",
            "value": " 29.0/29.0 [00:00&lt;00:00, 269B/s]",
            "_view_count": null,
            "_view_module_version": "1.5.0",
            "description_tooltip": null,
            "_model_module": "@jupyter-widgets/controls",
            "layout": "IPY_MODEL_e7f710937d1c47f3b07720e772c9790f"
          }
        },
        "005ae016690c437580040049d93a1096": {
          "model_module": "@jupyter-widgets/controls",
          "model_name": "ProgressStyleModel",
          "state": {
            "_view_name": "StyleView",
            "_model_name": "ProgressStyleModel",
            "description_width": "initial",
            "_view_module": "@jupyter-widgets/base",
            "_model_module_version": "1.5.0",
            "_view_count": null,
            "_view_module_version": "1.2.0",
            "bar_color": null,
            "_model_module": "@jupyter-widgets/controls"
          }
        },
        "59ac100473f2440a86e93c6c5441e94b": {
          "model_module": "@jupyter-widgets/base",
          "model_name": "LayoutModel",
          "state": {
            "_view_name": "LayoutView",
            "grid_template_rows": null,
            "right": null,
            "justify_content": null,
            "_view_module": "@jupyter-widgets/base",
            "overflow": null,
            "_model_module_version": "1.2.0",
            "_view_count": null,
            "flex_flow": null,
            "width": null,
            "min_width": null,
            "border": null,
            "align_items": null,
            "bottom": null,
            "_model_module": "@jupyter-widgets/base",
            "top": null,
            "grid_column": null,
            "overflow_y": null,
            "overflow_x": null,
            "grid_auto_flow": null,
            "grid_area": null,
            "grid_template_columns": null,
            "flex": null,
            "_model_name": "LayoutModel",
            "justify_items": null,
            "grid_row": null,
            "max_height": null,
            "align_content": null,
            "visibility": null,
            "align_self": null,
            "height": null,
            "min_height": null,
            "padding": null,
            "grid_auto_rows": null,
            "grid_gap": null,
            "max_width": null,
            "order": null,
            "_view_module_version": "1.2.0",
            "grid_template_areas": null,
            "object_position": null,
            "object_fit": null,
            "grid_auto_columns": null,
            "margin": null,
            "display": null,
            "left": null
          }
        },
        "633c3d81db4445b095a1ba7d3108cf1f": {
          "model_module": "@jupyter-widgets/controls",
          "model_name": "DescriptionStyleModel",
          "state": {
            "_view_name": "StyleView",
            "_model_name": "DescriptionStyleModel",
            "description_width": "",
            "_view_module": "@jupyter-widgets/base",
            "_model_module_version": "1.5.0",
            "_view_count": null,
            "_view_module_version": "1.2.0",
            "_model_module": "@jupyter-widgets/controls"
          }
        },
        "e7f710937d1c47f3b07720e772c9790f": {
          "model_module": "@jupyter-widgets/base",
          "model_name": "LayoutModel",
          "state": {
            "_view_name": "LayoutView",
            "grid_template_rows": null,
            "right": null,
            "justify_content": null,
            "_view_module": "@jupyter-widgets/base",
            "overflow": null,
            "_model_module_version": "1.2.0",
            "_view_count": null,
            "flex_flow": null,
            "width": null,
            "min_width": null,
            "border": null,
            "align_items": null,
            "bottom": null,
            "_model_module": "@jupyter-widgets/base",
            "top": null,
            "grid_column": null,
            "overflow_y": null,
            "overflow_x": null,
            "grid_auto_flow": null,
            "grid_area": null,
            "grid_template_columns": null,
            "flex": null,
            "_model_name": "LayoutModel",
            "justify_items": null,
            "grid_row": null,
            "max_height": null,
            "align_content": null,
            "visibility": null,
            "align_self": null,
            "height": null,
            "min_height": null,
            "padding": null,
            "grid_auto_rows": null,
            "grid_gap": null,
            "max_width": null,
            "order": null,
            "_view_module_version": "1.2.0",
            "grid_template_areas": null,
            "object_position": null,
            "object_fit": null,
            "grid_auto_columns": null,
            "margin": null,
            "display": null,
            "left": null
          }
        },
        "3fe9783c1c3a46c88fd54752f625e78f": {
          "model_module": "@jupyter-widgets/controls",
          "model_name": "HBoxModel",
          "state": {
            "_view_name": "HBoxView",
            "_dom_classes": [],
            "_model_name": "HBoxModel",
            "_view_module": "@jupyter-widgets/controls",
            "_model_module_version": "1.5.0",
            "_view_count": null,
            "_view_module_version": "1.5.0",
            "box_style": "",
            "layout": "IPY_MODEL_bf2ff10c5d054ff995bc2eb6975c8058",
            "_model_module": "@jupyter-widgets/controls",
            "children": [
              "IPY_MODEL_56b6e597141e4d89bd1027b696949399",
              "IPY_MODEL_e471ab306e3b44709bbfce403f6a5ccb"
            ]
          }
        },
        "bf2ff10c5d054ff995bc2eb6975c8058": {
          "model_module": "@jupyter-widgets/base",
          "model_name": "LayoutModel",
          "state": {
            "_view_name": "LayoutView",
            "grid_template_rows": null,
            "right": null,
            "justify_content": null,
            "_view_module": "@jupyter-widgets/base",
            "overflow": null,
            "_model_module_version": "1.2.0",
            "_view_count": null,
            "flex_flow": null,
            "width": null,
            "min_width": null,
            "border": null,
            "align_items": null,
            "bottom": null,
            "_model_module": "@jupyter-widgets/base",
            "top": null,
            "grid_column": null,
            "overflow_y": null,
            "overflow_x": null,
            "grid_auto_flow": null,
            "grid_area": null,
            "grid_template_columns": null,
            "flex": null,
            "_model_name": "LayoutModel",
            "justify_items": null,
            "grid_row": null,
            "max_height": null,
            "align_content": null,
            "visibility": null,
            "align_self": null,
            "height": null,
            "min_height": null,
            "padding": null,
            "grid_auto_rows": null,
            "grid_gap": null,
            "max_width": null,
            "order": null,
            "_view_module_version": "1.2.0",
            "grid_template_areas": null,
            "object_position": null,
            "object_fit": null,
            "grid_auto_columns": null,
            "margin": null,
            "display": null,
            "left": null
          }
        },
        "56b6e597141e4d89bd1027b696949399": {
          "model_module": "@jupyter-widgets/controls",
          "model_name": "FloatProgressModel",
          "state": {
            "_view_name": "ProgressView",
            "style": "IPY_MODEL_b9047d75b4684b02a1b7c6d57d5096f4",
            "_dom_classes": [],
            "description": "Downloading: 100%",
            "_model_name": "FloatProgressModel",
            "bar_style": "success",
            "max": 268943,
            "_view_module": "@jupyter-widgets/controls",
            "_model_module_version": "1.5.0",
            "value": 268943,
            "_view_count": null,
            "_view_module_version": "1.5.0",
            "orientation": "horizontal",
            "min": 0,
            "description_tooltip": null,
            "_model_module": "@jupyter-widgets/controls",
            "layout": "IPY_MODEL_ddecd004d72f4206ae1a0dda7b305d71"
          }
        },
        "e471ab306e3b44709bbfce403f6a5ccb": {
          "model_module": "@jupyter-widgets/controls",
          "model_name": "HTMLModel",
          "state": {
            "_view_name": "HTMLView",
            "style": "IPY_MODEL_2abfb99218cf4e8fab169d80fcf92aa2",
            "_dom_classes": [],
            "description": "",
            "_model_name": "HTMLModel",
            "placeholder": "​",
            "_view_module": "@jupyter-widgets/controls",
            "_model_module_version": "1.5.0",
            "value": " 269k/269k [00:00&lt;00:00, 2.88MB/s]",
            "_view_count": null,
            "_view_module_version": "1.5.0",
            "description_tooltip": null,
            "_model_module": "@jupyter-widgets/controls",
            "layout": "IPY_MODEL_f76422ad0af3432fa6797cfeef0244e4"
          }
        },
        "b9047d75b4684b02a1b7c6d57d5096f4": {
          "model_module": "@jupyter-widgets/controls",
          "model_name": "ProgressStyleModel",
          "state": {
            "_view_name": "StyleView",
            "_model_name": "ProgressStyleModel",
            "description_width": "initial",
            "_view_module": "@jupyter-widgets/base",
            "_model_module_version": "1.5.0",
            "_view_count": null,
            "_view_module_version": "1.2.0",
            "bar_color": null,
            "_model_module": "@jupyter-widgets/controls"
          }
        },
        "ddecd004d72f4206ae1a0dda7b305d71": {
          "model_module": "@jupyter-widgets/base",
          "model_name": "LayoutModel",
          "state": {
            "_view_name": "LayoutView",
            "grid_template_rows": null,
            "right": null,
            "justify_content": null,
            "_view_module": "@jupyter-widgets/base",
            "overflow": null,
            "_model_module_version": "1.2.0",
            "_view_count": null,
            "flex_flow": null,
            "width": null,
            "min_width": null,
            "border": null,
            "align_items": null,
            "bottom": null,
            "_model_module": "@jupyter-widgets/base",
            "top": null,
            "grid_column": null,
            "overflow_y": null,
            "overflow_x": null,
            "grid_auto_flow": null,
            "grid_area": null,
            "grid_template_columns": null,
            "flex": null,
            "_model_name": "LayoutModel",
            "justify_items": null,
            "grid_row": null,
            "max_height": null,
            "align_content": null,
            "visibility": null,
            "align_self": null,
            "height": null,
            "min_height": null,
            "padding": null,
            "grid_auto_rows": null,
            "grid_gap": null,
            "max_width": null,
            "order": null,
            "_view_module_version": "1.2.0",
            "grid_template_areas": null,
            "object_position": null,
            "object_fit": null,
            "grid_auto_columns": null,
            "margin": null,
            "display": null,
            "left": null
          }
        },
        "2abfb99218cf4e8fab169d80fcf92aa2": {
          "model_module": "@jupyter-widgets/controls",
          "model_name": "DescriptionStyleModel",
          "state": {
            "_view_name": "StyleView",
            "_model_name": "DescriptionStyleModel",
            "description_width": "",
            "_view_module": "@jupyter-widgets/base",
            "_model_module_version": "1.5.0",
            "_view_count": null,
            "_view_module_version": "1.2.0",
            "_model_module": "@jupyter-widgets/controls"
          }
        },
        "f76422ad0af3432fa6797cfeef0244e4": {
          "model_module": "@jupyter-widgets/base",
          "model_name": "LayoutModel",
          "state": {
            "_view_name": "LayoutView",
            "grid_template_rows": null,
            "right": null,
            "justify_content": null,
            "_view_module": "@jupyter-widgets/base",
            "overflow": null,
            "_model_module_version": "1.2.0",
            "_view_count": null,
            "flex_flow": null,
            "width": null,
            "min_width": null,
            "border": null,
            "align_items": null,
            "bottom": null,
            "_model_module": "@jupyter-widgets/base",
            "top": null,
            "grid_column": null,
            "overflow_y": null,
            "overflow_x": null,
            "grid_auto_flow": null,
            "grid_area": null,
            "grid_template_columns": null,
            "flex": null,
            "_model_name": "LayoutModel",
            "justify_items": null,
            "grid_row": null,
            "max_height": null,
            "align_content": null,
            "visibility": null,
            "align_self": null,
            "height": null,
            "min_height": null,
            "padding": null,
            "grid_auto_rows": null,
            "grid_gap": null,
            "max_width": null,
            "order": null,
            "_view_module_version": "1.2.0",
            "grid_template_areas": null,
            "object_position": null,
            "object_fit": null,
            "grid_auto_columns": null,
            "margin": null,
            "display": null,
            "left": null
          }
        },
        "835c07db519b4502ba4e51653ff30a6d": {
          "model_module": "@jupyter-widgets/controls",
          "model_name": "HBoxModel",
          "state": {
            "_view_name": "HBoxView",
            "_dom_classes": [],
            "_model_name": "HBoxModel",
            "_view_module": "@jupyter-widgets/controls",
            "_model_module_version": "1.5.0",
            "_view_count": null,
            "_view_module_version": "1.5.0",
            "box_style": "",
            "layout": "IPY_MODEL_2d7a757476f54d3881136bf0a3bbab29",
            "_model_module": "@jupyter-widgets/controls",
            "children": [
              "IPY_MODEL_5379185d27e44022a366b367c280ff1f",
              "IPY_MODEL_9635d27623684955ad6273cbaa68fd4e"
            ]
          }
        },
        "2d7a757476f54d3881136bf0a3bbab29": {
          "model_module": "@jupyter-widgets/base",
          "model_name": "LayoutModel",
          "state": {
            "_view_name": "LayoutView",
            "grid_template_rows": null,
            "right": null,
            "justify_content": null,
            "_view_module": "@jupyter-widgets/base",
            "overflow": null,
            "_model_module_version": "1.2.0",
            "_view_count": null,
            "flex_flow": null,
            "width": null,
            "min_width": null,
            "border": null,
            "align_items": null,
            "bottom": null,
            "_model_module": "@jupyter-widgets/base",
            "top": null,
            "grid_column": null,
            "overflow_y": null,
            "overflow_x": null,
            "grid_auto_flow": null,
            "grid_area": null,
            "grid_template_columns": null,
            "flex": null,
            "_model_name": "LayoutModel",
            "justify_items": null,
            "grid_row": null,
            "max_height": null,
            "align_content": null,
            "visibility": null,
            "align_self": null,
            "height": null,
            "min_height": null,
            "padding": null,
            "grid_auto_rows": null,
            "grid_gap": null,
            "max_width": null,
            "order": null,
            "_view_module_version": "1.2.0",
            "grid_template_areas": null,
            "object_position": null,
            "object_fit": null,
            "grid_auto_columns": null,
            "margin": null,
            "display": null,
            "left": null
          }
        },
        "5379185d27e44022a366b367c280ff1f": {
          "model_module": "@jupyter-widgets/controls",
          "model_name": "FloatProgressModel",
          "state": {
            "_view_name": "ProgressView",
            "style": "IPY_MODEL_de55b96e2997495fbd9f78d7c29e68ce",
            "_dom_classes": [],
            "description": "Downloading: 100%",
            "_model_name": "FloatProgressModel",
            "bar_style": "success",
            "max": 624,
            "_view_module": "@jupyter-widgets/controls",
            "_model_module_version": "1.5.0",
            "value": 624,
            "_view_count": null,
            "_view_module_version": "1.5.0",
            "orientation": "horizontal",
            "min": 0,
            "description_tooltip": null,
            "_model_module": "@jupyter-widgets/controls",
            "layout": "IPY_MODEL_7daa5f62508c4f3390fc86dc77d5a467"
          }
        },
        "9635d27623684955ad6273cbaa68fd4e": {
          "model_module": "@jupyter-widgets/controls",
          "model_name": "HTMLModel",
          "state": {
            "_view_name": "HTMLView",
            "style": "IPY_MODEL_7b33cc817b06473387bad5da01255b7a",
            "_dom_classes": [],
            "description": "",
            "_model_name": "HTMLModel",
            "placeholder": "​",
            "_view_module": "@jupyter-widgets/controls",
            "_model_module_version": "1.5.0",
            "value": " 624/624 [00:00&lt;00:00, 5.43kB/s]",
            "_view_count": null,
            "_view_module_version": "1.5.0",
            "description_tooltip": null,
            "_model_module": "@jupyter-widgets/controls",
            "layout": "IPY_MODEL_1b68ab5e85fd4ac0a2b4a0c817d1074c"
          }
        },
        "de55b96e2997495fbd9f78d7c29e68ce": {
          "model_module": "@jupyter-widgets/controls",
          "model_name": "ProgressStyleModel",
          "state": {
            "_view_name": "StyleView",
            "_model_name": "ProgressStyleModel",
            "description_width": "initial",
            "_view_module": "@jupyter-widgets/base",
            "_model_module_version": "1.5.0",
            "_view_count": null,
            "_view_module_version": "1.2.0",
            "bar_color": null,
            "_model_module": "@jupyter-widgets/controls"
          }
        },
        "7daa5f62508c4f3390fc86dc77d5a467": {
          "model_module": "@jupyter-widgets/base",
          "model_name": "LayoutModel",
          "state": {
            "_view_name": "LayoutView",
            "grid_template_rows": null,
            "right": null,
            "justify_content": null,
            "_view_module": "@jupyter-widgets/base",
            "overflow": null,
            "_model_module_version": "1.2.0",
            "_view_count": null,
            "flex_flow": null,
            "width": null,
            "min_width": null,
            "border": null,
            "align_items": null,
            "bottom": null,
            "_model_module": "@jupyter-widgets/base",
            "top": null,
            "grid_column": null,
            "overflow_y": null,
            "overflow_x": null,
            "grid_auto_flow": null,
            "grid_area": null,
            "grid_template_columns": null,
            "flex": null,
            "_model_name": "LayoutModel",
            "justify_items": null,
            "grid_row": null,
            "max_height": null,
            "align_content": null,
            "visibility": null,
            "align_self": null,
            "height": null,
            "min_height": null,
            "padding": null,
            "grid_auto_rows": null,
            "grid_gap": null,
            "max_width": null,
            "order": null,
            "_view_module_version": "1.2.0",
            "grid_template_areas": null,
            "object_position": null,
            "object_fit": null,
            "grid_auto_columns": null,
            "margin": null,
            "display": null,
            "left": null
          }
        },
        "7b33cc817b06473387bad5da01255b7a": {
          "model_module": "@jupyter-widgets/controls",
          "model_name": "DescriptionStyleModel",
          "state": {
            "_view_name": "StyleView",
            "_model_name": "DescriptionStyleModel",
            "description_width": "",
            "_view_module": "@jupyter-widgets/base",
            "_model_module_version": "1.5.0",
            "_view_count": null,
            "_view_module_version": "1.2.0",
            "_model_module": "@jupyter-widgets/controls"
          }
        },
        "1b68ab5e85fd4ac0a2b4a0c817d1074c": {
          "model_module": "@jupyter-widgets/base",
          "model_name": "LayoutModel",
          "state": {
            "_view_name": "LayoutView",
            "grid_template_rows": null,
            "right": null,
            "justify_content": null,
            "_view_module": "@jupyter-widgets/base",
            "overflow": null,
            "_model_module_version": "1.2.0",
            "_view_count": null,
            "flex_flow": null,
            "width": null,
            "min_width": null,
            "border": null,
            "align_items": null,
            "bottom": null,
            "_model_module": "@jupyter-widgets/base",
            "top": null,
            "grid_column": null,
            "overflow_y": null,
            "overflow_x": null,
            "grid_auto_flow": null,
            "grid_area": null,
            "grid_template_columns": null,
            "flex": null,
            "_model_name": "LayoutModel",
            "justify_items": null,
            "grid_row": null,
            "max_height": null,
            "align_content": null,
            "visibility": null,
            "align_self": null,
            "height": null,
            "min_height": null,
            "padding": null,
            "grid_auto_rows": null,
            "grid_gap": null,
            "max_width": null,
            "order": null,
            "_view_module_version": "1.2.0",
            "grid_template_areas": null,
            "object_position": null,
            "object_fit": null,
            "grid_auto_columns": null,
            "margin": null,
            "display": null,
            "left": null
          }
        },
        "b31ee07371134b058468e1c2bb4d75f3": {
          "model_module": "@jupyter-widgets/controls",
          "model_name": "HBoxModel",
          "state": {
            "_view_name": "HBoxView",
            "_dom_classes": [],
            "_model_name": "HBoxModel",
            "_view_module": "@jupyter-widgets/controls",
            "_model_module_version": "1.5.0",
            "_view_count": null,
            "_view_module_version": "1.5.0",
            "box_style": "",
            "layout": "IPY_MODEL_08592c29870042db9f54110dee69b48e",
            "_model_module": "@jupyter-widgets/controls",
            "children": [
              "IPY_MODEL_bf9dccd51cb9485697aea22c6a1f7cc4",
              "IPY_MODEL_39408404f0344be7923db71a447a66f0"
            ]
          }
        },
        "08592c29870042db9f54110dee69b48e": {
          "model_module": "@jupyter-widgets/base",
          "model_name": "LayoutModel",
          "state": {
            "_view_name": "LayoutView",
            "grid_template_rows": null,
            "right": null,
            "justify_content": null,
            "_view_module": "@jupyter-widgets/base",
            "overflow": null,
            "_model_module_version": "1.2.0",
            "_view_count": null,
            "flex_flow": null,
            "width": null,
            "min_width": null,
            "border": null,
            "align_items": null,
            "bottom": null,
            "_model_module": "@jupyter-widgets/base",
            "top": null,
            "grid_column": null,
            "overflow_y": null,
            "overflow_x": null,
            "grid_auto_flow": null,
            "grid_area": null,
            "grid_template_columns": null,
            "flex": null,
            "_model_name": "LayoutModel",
            "justify_items": null,
            "grid_row": null,
            "max_height": null,
            "align_content": null,
            "visibility": null,
            "align_self": null,
            "height": null,
            "min_height": null,
            "padding": null,
            "grid_auto_rows": null,
            "grid_gap": null,
            "max_width": null,
            "order": null,
            "_view_module_version": "1.2.0",
            "grid_template_areas": null,
            "object_position": null,
            "object_fit": null,
            "grid_auto_columns": null,
            "margin": null,
            "display": null,
            "left": null
          }
        },
        "bf9dccd51cb9485697aea22c6a1f7cc4": {
          "model_module": "@jupyter-widgets/controls",
          "model_name": "FloatProgressModel",
          "state": {
            "_view_name": "ProgressView",
            "style": "IPY_MODEL_62f0c556d5ac407f9764175c29aaec8c",
            "_dom_classes": [],
            "description": "Downloading: 100%",
            "_model_name": "FloatProgressModel",
            "bar_style": "success",
            "max": 411577189,
            "_view_module": "@jupyter-widgets/controls",
            "_model_module_version": "1.5.0",
            "value": 411577189,
            "_view_count": null,
            "_view_module_version": "1.5.0",
            "orientation": "horizontal",
            "min": 0,
            "description_tooltip": null,
            "_model_module": "@jupyter-widgets/controls",
            "layout": "IPY_MODEL_63114a7b7bfe4e8cbaa9e9e925bc0a62"
          }
        },
        "39408404f0344be7923db71a447a66f0": {
          "model_module": "@jupyter-widgets/controls",
          "model_name": "HTMLModel",
          "state": {
            "_view_name": "HTMLView",
            "style": "IPY_MODEL_7e4338aad56d4770b044d6b6d3e537ce",
            "_dom_classes": [],
            "description": "",
            "_model_name": "HTMLModel",
            "placeholder": "​",
            "_view_module": "@jupyter-widgets/controls",
            "_model_module_version": "1.5.0",
            "value": " 412M/412M [00:09&lt;00:00, 42.7MB/s]",
            "_view_count": null,
            "_view_module_version": "1.5.0",
            "description_tooltip": null,
            "_model_module": "@jupyter-widgets/controls",
            "layout": "IPY_MODEL_032e232601564512a3a741805459992a"
          }
        },
        "62f0c556d5ac407f9764175c29aaec8c": {
          "model_module": "@jupyter-widgets/controls",
          "model_name": "ProgressStyleModel",
          "state": {
            "_view_name": "StyleView",
            "_model_name": "ProgressStyleModel",
            "description_width": "initial",
            "_view_module": "@jupyter-widgets/base",
            "_model_module_version": "1.5.0",
            "_view_count": null,
            "_view_module_version": "1.2.0",
            "bar_color": null,
            "_model_module": "@jupyter-widgets/controls"
          }
        },
        "63114a7b7bfe4e8cbaa9e9e925bc0a62": {
          "model_module": "@jupyter-widgets/base",
          "model_name": "LayoutModel",
          "state": {
            "_view_name": "LayoutView",
            "grid_template_rows": null,
            "right": null,
            "justify_content": null,
            "_view_module": "@jupyter-widgets/base",
            "overflow": null,
            "_model_module_version": "1.2.0",
            "_view_count": null,
            "flex_flow": null,
            "width": null,
            "min_width": null,
            "border": null,
            "align_items": null,
            "bottom": null,
            "_model_module": "@jupyter-widgets/base",
            "top": null,
            "grid_column": null,
            "overflow_y": null,
            "overflow_x": null,
            "grid_auto_flow": null,
            "grid_area": null,
            "grid_template_columns": null,
            "flex": null,
            "_model_name": "LayoutModel",
            "justify_items": null,
            "grid_row": null,
            "max_height": null,
            "align_content": null,
            "visibility": null,
            "align_self": null,
            "height": null,
            "min_height": null,
            "padding": null,
            "grid_auto_rows": null,
            "grid_gap": null,
            "max_width": null,
            "order": null,
            "_view_module_version": "1.2.0",
            "grid_template_areas": null,
            "object_position": null,
            "object_fit": null,
            "grid_auto_columns": null,
            "margin": null,
            "display": null,
            "left": null
          }
        },
        "7e4338aad56d4770b044d6b6d3e537ce": {
          "model_module": "@jupyter-widgets/controls",
          "model_name": "DescriptionStyleModel",
          "state": {
            "_view_name": "StyleView",
            "_model_name": "DescriptionStyleModel",
            "description_width": "",
            "_view_module": "@jupyter-widgets/base",
            "_model_module_version": "1.5.0",
            "_view_count": null,
            "_view_module_version": "1.2.0",
            "_model_module": "@jupyter-widgets/controls"
          }
        },
        "032e232601564512a3a741805459992a": {
          "model_module": "@jupyter-widgets/base",
          "model_name": "LayoutModel",
          "state": {
            "_view_name": "LayoutView",
            "grid_template_rows": null,
            "right": null,
            "justify_content": null,
            "_view_module": "@jupyter-widgets/base",
            "overflow": null,
            "_model_module_version": "1.2.0",
            "_view_count": null,
            "flex_flow": null,
            "width": null,
            "min_width": null,
            "border": null,
            "align_items": null,
            "bottom": null,
            "_model_module": "@jupyter-widgets/base",
            "top": null,
            "grid_column": null,
            "overflow_y": null,
            "overflow_x": null,
            "grid_auto_flow": null,
            "grid_area": null,
            "grid_template_columns": null,
            "flex": null,
            "_model_name": "LayoutModel",
            "justify_items": null,
            "grid_row": null,
            "max_height": null,
            "align_content": null,
            "visibility": null,
            "align_self": null,
            "height": null,
            "min_height": null,
            "padding": null,
            "grid_auto_rows": null,
            "grid_gap": null,
            "max_width": null,
            "order": null,
            "_view_module_version": "1.2.0",
            "grid_template_areas": null,
            "object_position": null,
            "object_fit": null,
            "grid_auto_columns": null,
            "margin": null,
            "display": null,
            "left": null
          }
        }
      }
    }
  },
  "cells": [
    {
      "cell_type": "markdown",
      "metadata": {
        "id": "lLR4Q3_67wuP"
      },
      "source": [
        "幹部內訓 2021.01.16.\n",
        "# **文字探勘 Sesssion 3** "
      ]
    },
    {
      "cell_type": "markdown",
      "metadata": {
        "id": "VNKsjPnu3gx4"
      },
      "source": [
        "[![Open In Colab](https://colab.research.google.com/assets/colab-badge.svg)](https://colab.research.google.com/github/YL-Cheng/Portfolio/blob/main/DAC_Internal_Training/jupyternb/TextMining_3.ipynb)"
      ]
    },
    {
      "cell_type": "markdown",
      "metadata": {
        "id": "hxhJI4QH7zE_"
      },
      "source": [
        "-----"
      ]
    },
    {
      "cell_type": "code",
      "metadata": {
        "colab": {
          "base_uri": "https://localhost:8080/"
        },
        "id": "gMV36Srm72ET",
        "outputId": "cd296716-9a32-482d-f551-7f33f1407df0"
      },
      "source": [
        "from google.colab import drive\n",
        "drive.mount('/content/drive')\n",
        "import os\n",
        "os.chdir('/content/drive/MyDrive/Portfolio/DAC_Internal_Training')"
      ],
      "execution_count": null,
      "outputs": [
        {
          "output_type": "stream",
          "text": [
            "Mounted at /content/drive\n"
          ],
          "name": "stdout"
        }
      ]
    },
    {
      "cell_type": "code",
      "metadata": {
        "colab": {
          "base_uri": "https://localhost:8080/"
        },
        "id": "Raaf8lwh54Rt",
        "outputId": "f78cc5f3-4da1-467b-fece-1b1c759e3314"
      },
      "source": [
        "!pip install transformers\n",
        "import os\n",
        "import time\n",
        "import random\n",
        "import datetime\n",
        "\n",
        "import re\n",
        "import jieba\n",
        "import numpy as np\n",
        "import pandas as pd\n",
        "import matplotlib.pyplot as plt\n",
        "import plotly.express as px\n",
        "\n",
        "from sklearn.model_selection import train_test_split\n",
        "\n",
        "import torch\n",
        "import torch.nn as nn\n",
        "from torch.utils.data import TensorDataset, DataLoader, RandomSampler, SequentialSampler\n",
        "\n",
        "from transformers import BertTokenizer\n",
        "from transformers import BertForSequenceClassification, AdamW, BertConfig\n",
        "from transformers import get_linear_schedule_with_warmup"
      ],
      "execution_count": null,
      "outputs": [
        {
          "output_type": "stream",
          "text": [
            "Collecting transformers\n",
            "\u001b[?25l  Downloading https://files.pythonhosted.org/packages/81/91/61d69d58a1af1bd81d9ca9d62c90a6de3ab80d77f27c5df65d9a2c1f5626/transformers-4.5.0-py3-none-any.whl (2.1MB)\n",
            "\u001b[K     |████████████████████████████████| 2.2MB 18.5MB/s \n",
            "\u001b[?25hRequirement already satisfied: packaging in /usr/local/lib/python3.7/dist-packages (from transformers) (20.9)\n",
            "Requirement already satisfied: importlib-metadata; python_version < \"3.8\" in /usr/local/lib/python3.7/dist-packages (from transformers) (3.8.1)\n",
            "Requirement already satisfied: requests in /usr/local/lib/python3.7/dist-packages (from transformers) (2.23.0)\n",
            "Requirement already satisfied: regex!=2019.12.17 in /usr/local/lib/python3.7/dist-packages (from transformers) (2019.12.20)\n",
            "Collecting tokenizers<0.11,>=0.10.1\n",
            "\u001b[?25l  Downloading https://files.pythonhosted.org/packages/ae/04/5b870f26a858552025a62f1649c20d29d2672c02ff3c3fb4c688ca46467a/tokenizers-0.10.2-cp37-cp37m-manylinux2010_x86_64.whl (3.3MB)\n",
            "\u001b[K     |████████████████████████████████| 3.3MB 47.7MB/s \n",
            "\u001b[?25hRequirement already satisfied: tqdm>=4.27 in /usr/local/lib/python3.7/dist-packages (from transformers) (4.41.1)\n",
            "Requirement already satisfied: numpy>=1.17 in /usr/local/lib/python3.7/dist-packages (from transformers) (1.19.5)\n",
            "Requirement already satisfied: filelock in /usr/local/lib/python3.7/dist-packages (from transformers) (3.0.12)\n",
            "Collecting sacremoses\n",
            "\u001b[?25l  Downloading https://files.pythonhosted.org/packages/08/cd/342e584ee544d044fb573ae697404ce22ede086c9e87ce5960772084cad0/sacremoses-0.0.44.tar.gz (862kB)\n",
            "\u001b[K     |████████████████████████████████| 870kB 34.9MB/s \n",
            "\u001b[?25hRequirement already satisfied: pyparsing>=2.0.2 in /usr/local/lib/python3.7/dist-packages (from packaging->transformers) (2.4.7)\n",
            "Requirement already satisfied: zipp>=0.5 in /usr/local/lib/python3.7/dist-packages (from importlib-metadata; python_version < \"3.8\"->transformers) (3.4.1)\n",
            "Requirement already satisfied: typing-extensions>=3.6.4; python_version < \"3.8\" in /usr/local/lib/python3.7/dist-packages (from importlib-metadata; python_version < \"3.8\"->transformers) (3.7.4.3)\n",
            "Requirement already satisfied: urllib3!=1.25.0,!=1.25.1,<1.26,>=1.21.1 in /usr/local/lib/python3.7/dist-packages (from requests->transformers) (1.24.3)\n",
            "Requirement already satisfied: certifi>=2017.4.17 in /usr/local/lib/python3.7/dist-packages (from requests->transformers) (2020.12.5)\n",
            "Requirement already satisfied: idna<3,>=2.5 in /usr/local/lib/python3.7/dist-packages (from requests->transformers) (2.10)\n",
            "Requirement already satisfied: chardet<4,>=3.0.2 in /usr/local/lib/python3.7/dist-packages (from requests->transformers) (3.0.4)\n",
            "Requirement already satisfied: six in /usr/local/lib/python3.7/dist-packages (from sacremoses->transformers) (1.15.0)\n",
            "Requirement already satisfied: click in /usr/local/lib/python3.7/dist-packages (from sacremoses->transformers) (7.1.2)\n",
            "Requirement already satisfied: joblib in /usr/local/lib/python3.7/dist-packages (from sacremoses->transformers) (1.0.1)\n",
            "Building wheels for collected packages: sacremoses\n",
            "  Building wheel for sacremoses (setup.py) ... \u001b[?25l\u001b[?25hdone\n",
            "  Created wheel for sacremoses: filename=sacremoses-0.0.44-cp37-none-any.whl size=886084 sha256=82c9333320b308e26fa21c55710afcca5614ab166fbfb01eaa815d3b40dce0eb\n",
            "  Stored in directory: /root/.cache/pip/wheels/3e/fb/c0/13ab4d63d537658f448366744654323077c4d90069b6512f3c\n",
            "Successfully built sacremoses\n",
            "Installing collected packages: tokenizers, sacremoses, transformers\n",
            "Successfully installed sacremoses-0.0.44 tokenizers-0.10.2 transformers-4.5.0\n"
          ],
          "name": "stdout"
        }
      ]
    },
    {
      "cell_type": "markdown",
      "metadata": {
        "id": "t0R5SwTI73tm"
      },
      "source": [
        "## **定義函數**"
      ]
    },
    {
      "cell_type": "code",
      "metadata": {
        "id": "M4eZxJWS54R1"
      },
      "source": [
        "# 確認執行環境 (CPU or GPU)\n",
        "def get_device():\n",
        "    return 'cuda' if torch.cuda.is_available() else 'cpu'\n",
        "\n",
        "device = get_device()"
      ],
      "execution_count": null,
      "outputs": []
    },
    {
      "cell_type": "code",
      "metadata": {
        "id": "7V9UXp3h54Rv"
      },
      "source": [
        "# 固定所有隨機種子，確保結果可再現\n",
        "def set_seeds(myseed=807):\n",
        "    torch.backends.cudnn.deterministic = True\n",
        "    torch.backends.cudnn.benchmark = False\n",
        "    random.seed(myseed)\n",
        "    np.random.seed(myseed)\n",
        "    torch.manual_seed(myseed)\n",
        "    if torch.cuda.is_available():\n",
        "        torch.cuda.manual_seed_all(myseed)\n",
        "\n",
        "set_seeds()"
      ],
      "execution_count": null,
      "outputs": []
    },
    {
      "cell_type": "code",
      "metadata": {
        "id": "r5Jxg7aQ54R5"
      },
      "source": [
        "# 建立dataset與dataloader\n",
        "def generate_dataset(inputs, labels, mode, masks=None):\n",
        "    if masks:\n",
        "        if mode in ['Train', 'Validation']:\n",
        "            train_inputs, validation_inputs, train_labels, validation_labels =\\\n",
        "                    train_test_split(inputs, labels, random_state=807, test_size=0.1)\n",
        "            train_masks, validation_masks, _, _ =\\\n",
        "                    train_test_split(masks, labels, random_state=807, test_size=0.1)\n",
        "        \n",
        "            if mode == 'Train':\n",
        "                print(f'Training Data Length: {len(train_inputs)}')\n",
        "                return TensorDataset(torch.tensor(train_inputs),\n",
        "                                     torch.tensor(train_masks),\n",
        "                                     torch.tensor(train_labels))\n",
        "            elif mode == 'Validation':\n",
        "                print(f'Validation Data Length: {len(validation_inputs)}')\n",
        "                return TensorDataset(torch.tensor(validation_inputs),\n",
        "                                     torch.tensor(validation_masks),\n",
        "                                     torch.tensor(validation_labels))\n",
        "        elif mode == 'Test':\n",
        "            print(f'Testing Data Length: {len(inputs)}')\n",
        "            return TensorDataset(torch.tensor(inputs),\n",
        "                                 torch.tensor(masks),\n",
        "                                 torch.tensor(labels))\n",
        "    else:\n",
        "        if mode in ['Train', 'Validation']:\n",
        "            train_inputs, validation_inputs, train_labels, validation_labels =\\\n",
        "                    train_test_split(inputs, labels, random_state=807, test_size=0.1)\n",
        "        \n",
        "            if mode == 'Train':\n",
        "                print(f'Training Data Length: {len(train_inputs)}')\n",
        "                return TensorDataset(torch.tensor(train_inputs),\n",
        "                                     torch.tensor(train_labels))\n",
        "            elif mode == 'Validation':\n",
        "                print(f'Validation Data Length: {len(validation_inputs)}')\n",
        "                return TensorDataset(torch.tensor(validation_inputs),\n",
        "                                     torch.tensor(validation_labels))\n",
        "        elif mode == 'Test':\n",
        "            print(f'Testing Data Length: {len(inputs)}')\n",
        "            return TensorDataset(torch.tensor(inputs),\n",
        "                                 torch.tensor(labels))\n",
        "\n",
        "def generate_dataloader(inputs, labels, batch_size, mode, masks=None):\n",
        "    if masks:\n",
        "        dataset = generate_dataset(inputs, labels, mode, masks)\n",
        "    \n",
        "        print(f'{mode} DataLoader Constructed.')\n",
        "        if mode == 'Train':\n",
        "            return DataLoader(dataset,\n",
        "                              sampler=RandomSampler(dataset),\n",
        "                              batch_size=batch_size)\n",
        "        elif mode in ['Validation', 'Test']:\n",
        "            return DataLoader(dataset,\n",
        "                              sampler=SequentialSampler(dataset),\n",
        "                              batch_size=batch_size)\n",
        "    else:\n",
        "        dataset = generate_dataset(inputs, labels, mode)\n",
        "    \n",
        "        print(f'{mode} DataLoader Constructed.')\n",
        "        if mode == 'Train':\n",
        "            return DataLoader(dataset,\n",
        "                              sampler=RandomSampler(dataset),\n",
        "                              batch_size=batch_size)\n",
        "        elif mode in ['Validation', 'Test']:\n",
        "            return DataLoader(dataset,\n",
        "                              sampler=SequentialSampler(dataset),\n",
        "                              batch_size=batch_size)"
      ],
      "execution_count": null,
      "outputs": []
    },
    {
      "cell_type": "code",
      "metadata": {
        "id": "z8NehzT454R1"
      },
      "source": [
        "# 定義協助計算正確率的函數\n",
        "def flat_accuracy(preds, labels):\n",
        "    pred_flat = np.argmax(preds, axis=1).flatten()\n",
        "    labels_flat = labels.flatten()\n",
        "    return np.sum(pred_flat == labels_flat) / len(labels_flat)"
      ],
      "execution_count": null,
      "outputs": []
    },
    {
      "cell_type": "code",
      "metadata": {
        "id": "PWlk30db54R2"
      },
      "source": [
        "# 監控執行時間\n",
        "def format_time(elapsed):\n",
        "    '''\n",
        "    Takes a time in seconds and returns a string hh:mm:ss\n",
        "    '''\n",
        "    # Round to the nearest second.\n",
        "    elapsed_rounded = int(round((elapsed)))\n",
        "    \n",
        "    # Format as hh:mm:ss\n",
        "    return str(datetime.timedelta(seconds=elapsed_rounded))"
      ],
      "execution_count": null,
      "outputs": []
    },
    {
      "cell_type": "markdown",
      "metadata": {
        "id": "tenczKQR54Rx"
      },
      "source": [
        "## **匯入PTT資料及標籤**"
      ]
    },
    {
      "cell_type": "code",
      "metadata": {
        "id": "dXr4bTuk54Rx"
      },
      "source": [
        "BOARD_LIST = [\"BoyGirl\", \"HatePolitics\", \"NBA\", \"Stock\"]\n",
        "\n",
        "BoyGirl = pd.read_csv(\"./ptt_csv/Boy_Girl_200.csv\").drop(columns = \"Unnamed: 0\")\n",
        "BoyGirl[\"source\"] = \"BoyGirl\"\n",
        "HatePolitics = pd.read_csv(\"./ptt_csv/HatePolitics_200.csv\").drop(columns = \"Unnamed: 0\")\n",
        "HatePolitics[\"source\"] = \"HatePolitics\"\n",
        "NBA = pd.read_csv(\"./ptt_csv/NBA_200.csv\").drop(columns = \"Unnamed: 0\")\n",
        "NBA[\"source\"] = \"NBA\"\n",
        "Stock = pd.read_csv(\"./ptt_csv/Stock_200.csv\").drop(columns = \"Unnamed: 0\")\n",
        "Stock[\"source\"] = \"Stock\"\n",
        "\n",
        "ptt = BoyGirl[0:1000].append(HatePolitics[0:1000])\n",
        "ptt = ptt.append(NBA[0:1000])\n",
        "ptt = ptt.append(Stock[0:1000]).reset_index().drop(columns = \"index\").rename(columns={\"標題\":\"topic\", \"時間\": \"time\", \"內容\": \"content\"})\n",
        "\n",
        "ptt = ptt.dropna(how = \"any\")\n",
        "ptt = ptt[~ptt['topic'].str.contains('公告')]\n",
        "ptt['content'] = ptt['content'].str.replace('原文標題|完整新聞標題|原文連結|新聞網址|詳細報導請見|新聞來源|編輯|報導|發布時間|發佈時間|最後更新時間|原文內容|完整新聞內容|心得/評論|附註、心得、想法', '')"
      ],
      "execution_count": null,
      "outputs": []
    },
    {
      "cell_type": "code",
      "metadata": {
        "id": "NT-t9lik54Rz"
      },
      "source": [
        "topics = list(ptt['topic'])\n",
        "boards = list(ptt['source'])\n",
        "\n",
        "symbols = r'，|,|。|\\.|！|\\!|？|\\?|、|：|\\:|⋯⋯|\"\"|\\(|\\)|（|）|=|\\+|「|」|『|』|《|》|〈|〉|【|】|〖|〗|［|］|<|>|/|\\\\|\\n'\n",
        "for i, t in enumerate(topics):\n",
        "    t = re.sub('Re:|R:|Fw:', '', t).strip()\n",
        "    t = re.sub(symbols, '', t).strip()\n",
        "    t = re.sub('^\\[\\w+\\]', '', t).strip()\n",
        "    topics[i] = t"
      ],
      "execution_count": null,
      "outputs": []
    },
    {
      "cell_type": "code",
      "metadata": {
        "id": "bLmGvxfS54R0"
      },
      "source": [
        "# 去除為空值的標題以及對應的labels\n",
        "indices = [i for i, x in enumerate(topics) if len(x) == 0]\n",
        "for crr, slc in enumerate(indices):\n",
        "    del topics[slc-crr]\n",
        "    del boards[slc-crr]"
      ],
      "execution_count": null,
      "outputs": []
    },
    {
      "cell_type": "markdown",
      "metadata": {
        "id": "YtnCY9uT9NWi"
      },
      "source": [
        "## **建立 LSTM 模型區分文章類別**"
      ]
    },
    {
      "cell_type": "markdown",
      "metadata": {
        "id": "BikehR1x54R2"
      },
      "source": [
        "### **資料前處理**"
      ]
    },
    {
      "cell_type": "markdown",
      "metadata": {
        "id": "u-DQcngJ-VSn"
      },
      "source": [
        "#### 將標題文字轉為向量 (input data)"
      ]
    },
    {
      "cell_type": "code",
      "metadata": {
        "colab": {
          "base_uri": "https://localhost:8080/"
        },
        "id": "jgrAMyFe54R3",
        "outputId": "a5f8df93-267f-4089-9b97-f54f4d2a59de"
      },
      "source": [
        "jieba.set_dictionary('./jupyternb/dict.txt.big')\n",
        "\n",
        "# 對文章標題進行斷詞\n",
        "topics_cut = []\n",
        "for topic in topics:\n",
        "    topic = re.sub(symbols, \" \", topic)\n",
        "    topic_cutlist = []\n",
        "    for w in jieba.lcut(topic):\n",
        "        if len(w) >= 1:\n",
        "            topic_cutlist.append(w)\n",
        "    topic_cut = re.sub(\"\\s+\", \" \", \" \".join(topic_cutlist).strip()) \n",
        "    topics_cut.append((topic_cut, topic_cut.split(), len(topic_cut.split())))\n",
        "\n",
        "MAX_LEN = max([topic[2] for topic in topics_cut])"
      ],
      "execution_count": null,
      "outputs": [
        {
          "output_type": "stream",
          "text": [
            "Building prefix dict from /content/drive/My Drive/Portfolio/DAC_Internal_Training/jupyternb/dict.txt.big ...\n",
            "Dumping model to file cache /tmp/jieba.ud9289a7749bfc77fb0185e9e38d688c7.cache\n",
            "Loading model cost 1.213 seconds.\n",
            "Prefix dict has been built successfully.\n"
          ],
          "name": "stderr"
        }
      ]
    },
    {
      "cell_type": "code",
      "metadata": {
        "id": "S3WBWzw254R4"
      },
      "source": [
        "# 建立字詞與id的mapping dictionary\n",
        "def prepare_sequence(seq, to_ix):\n",
        "    idxs = [to_ix[w] for w in seq]\n",
        "    return torch.tensor(idxs, dtype=torch.long)\n",
        "\n",
        "word_to_idx = {}\n",
        "for topic in topics_cut:\n",
        "    for word in topic[1]:\n",
        "        if word not in word_to_idx:\n",
        "            word_to_idx[word] = len(word_to_idx)"
      ],
      "execution_count": null,
      "outputs": []
    },
    {
      "cell_type": "code",
      "metadata": {
        "colab": {
          "base_uri": "https://localhost:8080/"
        },
        "id": "cNMhOrx_54R4",
        "outputId": "a8befec7-d118-4a5e-9dc1-ba72f0c07de9"
      },
      "source": [
        "input_ids = []\n",
        "for topic in topics_cut:\n",
        "    ids = [0]*MAX_LEN\n",
        "    ids[:topic[2]] = [word_to_idx[w] for w in topic[1]]\n",
        "    input_ids.append(ids)\n",
        "\n",
        "print('Original: ', topics_cut[0][0])\n",
        "print('Token IDs:', input_ids[0])"
      ],
      "execution_count": null,
      "outputs": [
        {
          "output_type": "stream",
          "text": [
            "Original:  這樣子 還要 繼續 嗎\n",
            "Token IDs: [0, 1, 2, 3, 0, 0, 0, 0, 0, 0, 0, 0, 0, 0, 0]\n"
          ],
          "name": "stdout"
        }
      ]
    },
    {
      "cell_type": "markdown",
      "metadata": {
        "id": "59mGkjvf-auU"
      },
      "source": [
        "#### 建立數值化的資料標籤 (labels)"
      ]
    },
    {
      "cell_type": "code",
      "metadata": {
        "id": "GyeTvlno54R4"
      },
      "source": [
        "board_id = {'BoyGirl':0, 'HatePolitics':1, 'NBA':2, 'Stock':3}\n",
        "labels = [board_id[b] for b in boards]"
      ],
      "execution_count": null,
      "outputs": []
    },
    {
      "cell_type": "markdown",
      "metadata": {
        "id": "5jKTMluB54R4"
      },
      "source": [
        "### **拆分 Training Set 與 Testing Set**"
      ]
    },
    {
      "cell_type": "code",
      "metadata": {
        "id": "mHCOFAgZ54R5"
      },
      "source": [
        "tr_inputs, ts_inputs, tr_labels, ts_labels =\\\n",
        "    train_test_split(input_ids, labels, random_state=807, test_size=0.1)"
      ],
      "execution_count": null,
      "outputs": []
    },
    {
      "cell_type": "markdown",
      "metadata": {
        "id": "XlQawj3A54R5"
      },
      "source": [
        "### **建立 DataSet 與 DataLoader**"
      ]
    },
    {
      "cell_type": "code",
      "metadata": {
        "colab": {
          "base_uri": "https://localhost:8080/"
        },
        "id": "HYRCpTHE54R8",
        "outputId": "13a6cd9b-e934-449d-a621-48e722600430"
      },
      "source": [
        "batch_size = 32\n",
        "train_dataloader = generate_dataloader(tr_inputs, tr_labels, batch_size, 'Train')\n",
        "validation_dataloader = generate_dataloader(tr_inputs, tr_labels, batch_size, 'Validation')"
      ],
      "execution_count": null,
      "outputs": [
        {
          "output_type": "stream",
          "text": [
            "Training Data Length: 3184\n",
            "Train DataLoader Constructed.\n",
            "Validation Data Length: 354\n",
            "Validation DataLoader Constructed.\n"
          ],
          "name": "stdout"
        }
      ]
    },
    {
      "cell_type": "markdown",
      "metadata": {
        "id": "QqPfKDVq54R9"
      },
      "source": [
        "## **建立 LSTM 模型**"
      ]
    },
    {
      "cell_type": "code",
      "metadata": {
        "id": "DYeUJZkp54R9"
      },
      "source": [
        "class LSTMClassifier(nn.Module):\n",
        "    \"\"\"Very simple implementation of LSTM-based time-series classifier.\"\"\"\n",
        "    \n",
        "    def __init__(self, n_vocab, embedding_dim, hidden_dim, n_layers, dropout=0.2):\n",
        "        super().__init__()\n",
        "        self.embedding_dim = embedding_dim\n",
        "        self.hidden_dim = hidden_dim\n",
        "        self.n_layers = n_layers\n",
        "        \n",
        "        self.embeddings = nn.Embedding(n_vocab, embedding_dim)\n",
        "        self.lstm = nn.LSTM(embedding_dim, hidden_dim, n_layers, dropout=dropout)\n",
        "        self.fc = nn.Linear(hidden_dim, 4)\n",
        "        \n",
        "        self.batch_size = None\n",
        "        self.hidden = None\n",
        "    \n",
        "    def forward(self, x):\n",
        "        embeddings = self.embeddings(x.t())\n",
        "        h0 = torch.zeros(self.n_layers, x.size(0), self.hidden_dim).requires_grad_().to(device)\n",
        "        c0 = torch.zeros(self.n_layers, x.size(0), self.hidden_dim).requires_grad_().to(device)\n",
        "        packed_out, (hn, cn) = self.lstm(embeddings, (h0,c0))\n",
        "        out = self.fc(hn[-1,:,:]) \n",
        "        return out"
      ],
      "execution_count": null,
      "outputs": []
    },
    {
      "cell_type": "code",
      "metadata": {
        "id": "aT6EcKGGDNMC"
      },
      "source": [
        "lr = 0.0005\n",
        "epochs = 30\n",
        "best_acc = 0\n",
        "patience, trials = 100, 0\n",
        "\n",
        "embedding_dim = 200\n",
        "hidden_dim = 256\n",
        "n_layers = 3\n",
        "modelLSTM = LSTMClassifier(len(word_to_idx), embedding_dim, hidden_dim, n_layers)\n",
        "modelLSTM = modelLSTM.to(device)\n",
        "criterion = nn.CrossEntropyLoss()\n",
        "optimizer = torch.optim.RMSprop(modelLSTM.parameters(), lr=lr)"
      ],
      "execution_count": null,
      "outputs": []
    },
    {
      "cell_type": "markdown",
      "metadata": {
        "id": "swIu7X0iDa5d"
      },
      "source": [
        "- 觀察 LSTM classifier 的模型結構"
      ]
    },
    {
      "cell_type": "code",
      "metadata": {
        "colab": {
          "base_uri": "https://localhost:8080/"
        },
        "id": "vmK_TXNVDSe7",
        "outputId": "5d4ca6c0-65f5-4582-b10d-c0b4d17e4c21"
      },
      "source": [
        "modelLSTM.parameters"
      ],
      "execution_count": null,
      "outputs": [
        {
          "output_type": "execute_result",
          "data": {
            "text/plain": [
              "<bound method Module.parameters of LSTMClassifier(\n",
              "  (embeddings): Embedding(7849, 200)\n",
              "  (lstm): LSTM(200, 256, num_layers=3, dropout=0.2)\n",
              "  (fc): Linear(in_features=256, out_features=4, bias=True)\n",
              ")>"
            ]
          },
          "metadata": {
            "tags": []
          },
          "execution_count": 19
        }
      ]
    },
    {
      "cell_type": "markdown",
      "metadata": {
        "id": "mWYiwfmkAjIC"
      },
      "source": [
        "### **訓練模型**"
      ]
    },
    {
      "cell_type": "code",
      "metadata": {
        "colab": {
          "base_uri": "https://localhost:8080/"
        },
        "id": "tqCP6SoH54R9",
        "outputId": "30270614-44fb-421f-a42b-a693e910791d"
      },
      "source": [
        "loss_values = []\n",
        "\n",
        "for epoch_i in range(epochs): \n",
        "    \n",
        "    # Training\n",
        "    print(f'[ Epoch {epoch_i+1} / {epochs} ]\\n')\n",
        "    t0 = time.time()\n",
        "    \n",
        "    modelLSTM.train()\n",
        "    train_loss, train_accuracy = 0, 0\n",
        "    nb_train_steps = 0\n",
        "    for step, batch in enumerate(train_dataloader):\n",
        "        if step % 40 == 0 and not step == 0:\n",
        "            elapsed = format_time(time.time() - t0)\n",
        "            print('  Batch {:>5,}  of  {:>5,}.    Elapsed: {:}.'.format(step, len(train_dataloader), elapsed))\n",
        "        \n",
        "        b_input_ids = batch[0].to(device)\n",
        "        b_labels = batch[1].to(device)\n",
        "        \n",
        "        optimizer.zero_grad()        \n",
        "        outputs = modelLSTM(b_input_ids)\n",
        "        loss = criterion(outputs, b_labels)\n",
        "        train_loss += loss.item()        \n",
        "        loss.backward()\n",
        "        \n",
        "        outputs = outputs.detach().cpu().numpy()\n",
        "        label_ids = b_labels.to('cpu').numpy()\n",
        "        tmp_train_accuracy = flat_accuracy(outputs, label_ids)\n",
        "        train_accuracy += tmp_train_accuracy\n",
        "        nb_train_steps += 1\n",
        "        \n",
        "        optimizer.step()\n",
        "    \n",
        "    avg_train_loss = train_loss / len(train_dataloader)            \n",
        "    \n",
        "    loss_values.append(avg_train_loss)\n",
        "    print(\"  Average training loss: {0:.2f}, Accuracy: {1:.2f}\".format(avg_train_loss, train_accuracy/nb_train_steps))\n",
        "    print(\"  Training epcoh took: {:}\\n\".format(format_time(time.time() - t0)))\n",
        "        \n",
        "    # Validation\n",
        "    t0 = time.time()\n",
        "    \n",
        "    modelLSTM.eval()\n",
        "    eval_accuracy = 0\n",
        "    nb_eval_steps = 0\n",
        "    for batch in validation_dataloader:\n",
        "        b_input_ids = batch[0].to(device)\n",
        "        b_labels = batch[1].to(device)\n",
        "\n",
        "        with torch.no_grad():        \n",
        "            outputs = modelLSTM(b_input_ids)\n",
        "        \n",
        "        outputs = outputs.detach().cpu().numpy()\n",
        "        label_ids = b_labels.to('cpu').numpy()\n",
        "        \n",
        "        tmp_eval_accuracy = flat_accuracy(outputs, label_ids)\n",
        "        \n",
        "        eval_accuracy += tmp_eval_accuracy\n",
        "        nb_eval_steps += 1\n",
        "    print(\"  Accuracy: {0:.2f}\".format(eval_accuracy/nb_eval_steps))\n",
        "    print(\"  Validation took: {:}\\n\".format(format_time(time.time() - t0)))"
      ],
      "execution_count": null,
      "outputs": [
        {
          "output_type": "stream",
          "text": [
            "[ Epoch 1 / 30 ]\n",
            "\n",
            "  Batch    40  of    100.    Elapsed: 0:00:06.\n",
            "  Batch    80  of    100.    Elapsed: 0:00:12.\n",
            "  Average training loss: 1.26, Accuracy: 0.36\n",
            "  Training epcoh took: 0:00:15\n",
            "\n",
            "  Accuracy: 0.43\n",
            "  Validation took: 0:00:00\n",
            "\n",
            "[ Epoch 2 / 30 ]\n",
            "\n",
            "  Batch    40  of    100.    Elapsed: 0:00:06.\n",
            "  Batch    80  of    100.    Elapsed: 0:00:12.\n",
            "  Average training loss: 0.88, Accuracy: 0.61\n",
            "  Training epcoh took: 0:00:15\n",
            "\n",
            "  Accuracy: 0.67\n",
            "  Validation took: 0:00:00\n",
            "\n",
            "[ Epoch 3 / 30 ]\n",
            "\n",
            "  Batch    40  of    100.    Elapsed: 0:00:06.\n",
            "  Batch    80  of    100.    Elapsed: 0:00:12.\n",
            "  Average training loss: 0.57, Accuracy: 0.77\n",
            "  Training epcoh took: 0:00:15\n",
            "\n",
            "  Accuracy: 0.70\n",
            "  Validation took: 0:00:00\n",
            "\n",
            "[ Epoch 4 / 30 ]\n",
            "\n",
            "  Batch    40  of    100.    Elapsed: 0:00:06.\n",
            "  Batch    80  of    100.    Elapsed: 0:00:12.\n",
            "  Average training loss: 0.34, Accuracy: 0.88\n",
            "  Training epcoh took: 0:00:15\n",
            "\n",
            "  Accuracy: 0.71\n",
            "  Validation took: 0:00:00\n",
            "\n",
            "[ Epoch 5 / 30 ]\n",
            "\n",
            "  Batch    40  of    100.    Elapsed: 0:00:06.\n",
            "  Batch    80  of    100.    Elapsed: 0:00:12.\n",
            "  Average training loss: 0.21, Accuracy: 0.93\n",
            "  Training epcoh took: 0:00:15\n",
            "\n",
            "  Accuracy: 0.73\n",
            "  Validation took: 0:00:00\n",
            "\n",
            "[ Epoch 6 / 30 ]\n",
            "\n",
            "  Batch    40  of    100.    Elapsed: 0:00:06.\n",
            "  Batch    80  of    100.    Elapsed: 0:00:12.\n",
            "  Average training loss: 0.13, Accuracy: 0.96\n",
            "  Training epcoh took: 0:00:15\n",
            "\n",
            "  Accuracy: 0.74\n",
            "  Validation took: 0:00:00\n",
            "\n",
            "[ Epoch 7 / 30 ]\n",
            "\n",
            "  Batch    40  of    100.    Elapsed: 0:00:06.\n",
            "  Batch    80  of    100.    Elapsed: 0:00:12.\n",
            "  Average training loss: 0.08, Accuracy: 0.98\n",
            "  Training epcoh took: 0:00:15\n",
            "\n",
            "  Accuracy: 0.81\n",
            "  Validation took: 0:00:00\n",
            "\n",
            "[ Epoch 8 / 30 ]\n",
            "\n",
            "  Batch    40  of    100.    Elapsed: 0:00:06.\n",
            "  Batch    80  of    100.    Elapsed: 0:00:12.\n",
            "  Average training loss: 0.08, Accuracy: 0.98\n",
            "  Training epcoh took: 0:00:15\n",
            "\n",
            "  Accuracy: 0.79\n",
            "  Validation took: 0:00:00\n",
            "\n",
            "[ Epoch 9 / 30 ]\n",
            "\n",
            "  Batch    40  of    100.    Elapsed: 0:00:06.\n",
            "  Batch    80  of    100.    Elapsed: 0:00:12.\n",
            "  Average training loss: 0.05, Accuracy: 0.99\n",
            "  Training epcoh took: 0:00:15\n",
            "\n",
            "  Accuracy: 0.81\n",
            "  Validation took: 0:00:00\n",
            "\n",
            "[ Epoch 10 / 30 ]\n",
            "\n",
            "  Batch    40  of    100.    Elapsed: 0:00:06.\n",
            "  Batch    80  of    100.    Elapsed: 0:00:12.\n",
            "  Average training loss: 0.04, Accuracy: 0.99\n",
            "  Training epcoh took: 0:00:15\n",
            "\n",
            "  Accuracy: 0.82\n",
            "  Validation took: 0:00:00\n",
            "\n",
            "[ Epoch 11 / 30 ]\n",
            "\n",
            "  Batch    40  of    100.    Elapsed: 0:00:06.\n",
            "  Batch    80  of    100.    Elapsed: 0:00:12.\n",
            "  Average training loss: 0.05, Accuracy: 0.99\n",
            "  Training epcoh took: 0:00:15\n",
            "\n",
            "  Accuracy: 0.80\n",
            "  Validation took: 0:00:00\n",
            "\n",
            "[ Epoch 12 / 30 ]\n",
            "\n",
            "  Batch    40  of    100.    Elapsed: 0:00:06.\n",
            "  Batch    80  of    100.    Elapsed: 0:00:12.\n",
            "  Average training loss: 0.03, Accuracy: 0.99\n",
            "  Training epcoh took: 0:00:14\n",
            "\n",
            "  Accuracy: 0.81\n",
            "  Validation took: 0:00:00\n",
            "\n",
            "[ Epoch 13 / 30 ]\n",
            "\n",
            "  Batch    40  of    100.    Elapsed: 0:00:06.\n",
            "  Batch    80  of    100.    Elapsed: 0:00:12.\n",
            "  Average training loss: 0.02, Accuracy: 1.00\n",
            "  Training epcoh took: 0:00:15\n",
            "\n",
            "  Accuracy: 0.73\n",
            "  Validation took: 0:00:00\n",
            "\n",
            "[ Epoch 14 / 30 ]\n",
            "\n",
            "  Batch    40  of    100.    Elapsed: 0:00:06.\n",
            "  Batch    80  of    100.    Elapsed: 0:00:12.\n",
            "  Average training loss: 0.04, Accuracy: 0.99\n",
            "  Training epcoh took: 0:00:14\n",
            "\n",
            "  Accuracy: 0.79\n",
            "  Validation took: 0:00:00\n",
            "\n",
            "[ Epoch 15 / 30 ]\n",
            "\n",
            "  Batch    40  of    100.    Elapsed: 0:00:06.\n",
            "  Batch    80  of    100.    Elapsed: 0:00:12.\n",
            "  Average training loss: 0.01, Accuracy: 1.00\n",
            "  Training epcoh took: 0:00:14\n",
            "\n",
            "  Accuracy: 0.79\n",
            "  Validation took: 0:00:00\n",
            "\n",
            "[ Epoch 16 / 30 ]\n",
            "\n",
            "  Batch    40  of    100.    Elapsed: 0:00:06.\n",
            "  Batch    80  of    100.    Elapsed: 0:00:12.\n",
            "  Average training loss: 0.01, Accuracy: 1.00\n",
            "  Training epcoh took: 0:00:15\n",
            "\n",
            "  Accuracy: 0.80\n",
            "  Validation took: 0:00:00\n",
            "\n",
            "[ Epoch 17 / 30 ]\n",
            "\n",
            "  Batch    40  of    100.    Elapsed: 0:00:06.\n",
            "  Batch    80  of    100.    Elapsed: 0:00:12.\n",
            "  Average training loss: 0.02, Accuracy: 1.00\n",
            "  Training epcoh took: 0:00:14\n",
            "\n",
            "  Accuracy: 0.80\n",
            "  Validation took: 0:00:00\n",
            "\n",
            "[ Epoch 18 / 30 ]\n",
            "\n",
            "  Batch    40  of    100.    Elapsed: 0:00:06.\n",
            "  Batch    80  of    100.    Elapsed: 0:00:12.\n",
            "  Average training loss: 0.02, Accuracy: 1.00\n",
            "  Training epcoh took: 0:00:14\n",
            "\n",
            "  Accuracy: 0.80\n",
            "  Validation took: 0:00:00\n",
            "\n",
            "[ Epoch 19 / 30 ]\n",
            "\n",
            "  Batch    40  of    100.    Elapsed: 0:00:06.\n",
            "  Batch    80  of    100.    Elapsed: 0:00:12.\n",
            "  Average training loss: 0.01, Accuracy: 1.00\n",
            "  Training epcoh took: 0:00:14\n",
            "\n",
            "  Accuracy: 0.82\n",
            "  Validation took: 0:00:00\n",
            "\n",
            "[ Epoch 20 / 30 ]\n",
            "\n",
            "  Batch    40  of    100.    Elapsed: 0:00:06.\n",
            "  Batch    80  of    100.    Elapsed: 0:00:12.\n",
            "  Average training loss: 0.01, Accuracy: 1.00\n",
            "  Training epcoh took: 0:00:14\n",
            "\n",
            "  Accuracy: 0.80\n",
            "  Validation took: 0:00:00\n",
            "\n",
            "[ Epoch 21 / 30 ]\n",
            "\n",
            "  Batch    40  of    100.    Elapsed: 0:00:06.\n",
            "  Batch    80  of    100.    Elapsed: 0:00:12.\n",
            "  Average training loss: 0.02, Accuracy: 0.99\n",
            "  Training epcoh took: 0:00:14\n",
            "\n",
            "  Accuracy: 0.82\n",
            "  Validation took: 0:00:00\n",
            "\n",
            "[ Epoch 22 / 30 ]\n",
            "\n",
            "  Batch    40  of    100.    Elapsed: 0:00:06.\n",
            "  Batch    80  of    100.    Elapsed: 0:00:12.\n",
            "  Average training loss: 0.02, Accuracy: 1.00\n",
            "  Training epcoh took: 0:00:14\n",
            "\n",
            "  Accuracy: 0.80\n",
            "  Validation took: 0:00:00\n",
            "\n",
            "[ Epoch 23 / 30 ]\n",
            "\n",
            "  Batch    40  of    100.    Elapsed: 0:00:06.\n",
            "  Batch    80  of    100.    Elapsed: 0:00:12.\n",
            "  Average training loss: 0.02, Accuracy: 1.00\n",
            "  Training epcoh took: 0:00:14\n",
            "\n",
            "  Accuracy: 0.81\n",
            "  Validation took: 0:00:00\n",
            "\n",
            "[ Epoch 24 / 30 ]\n",
            "\n",
            "  Batch    40  of    100.    Elapsed: 0:00:06.\n",
            "  Batch    80  of    100.    Elapsed: 0:00:11.\n",
            "  Average training loss: 0.00, Accuracy: 1.00\n",
            "  Training epcoh took: 0:00:14\n",
            "\n",
            "  Accuracy: 0.82\n",
            "  Validation took: 0:00:00\n",
            "\n",
            "[ Epoch 25 / 30 ]\n",
            "\n",
            "  Batch    40  of    100.    Elapsed: 0:00:06.\n",
            "  Batch    80  of    100.    Elapsed: 0:00:12.\n",
            "  Average training loss: 0.01, Accuracy: 1.00\n",
            "  Training epcoh took: 0:00:14\n",
            "\n",
            "  Accuracy: 0.82\n",
            "  Validation took: 0:00:00\n",
            "\n",
            "[ Epoch 26 / 30 ]\n",
            "\n",
            "  Batch    40  of    100.    Elapsed: 0:00:06.\n",
            "  Batch    80  of    100.    Elapsed: 0:00:12.\n",
            "  Average training loss: 0.00, Accuracy: 1.00\n",
            "  Training epcoh took: 0:00:14\n",
            "\n",
            "  Accuracy: 0.82\n",
            "  Validation took: 0:00:00\n",
            "\n",
            "[ Epoch 27 / 30 ]\n",
            "\n",
            "  Batch    40  of    100.    Elapsed: 0:00:06.\n",
            "  Batch    80  of    100.    Elapsed: 0:00:11.\n",
            "  Average training loss: 0.00, Accuracy: 1.00\n",
            "  Training epcoh took: 0:00:14\n",
            "\n",
            "  Accuracy: 0.82\n",
            "  Validation took: 0:00:00\n",
            "\n",
            "[ Epoch 28 / 30 ]\n",
            "\n",
            "  Batch    40  of    100.    Elapsed: 0:00:06.\n",
            "  Batch    80  of    100.    Elapsed: 0:00:11.\n",
            "  Average training loss: 0.02, Accuracy: 1.00\n",
            "  Training epcoh took: 0:00:14\n",
            "\n",
            "  Accuracy: 0.79\n",
            "  Validation took: 0:00:00\n",
            "\n",
            "[ Epoch 29 / 30 ]\n",
            "\n",
            "  Batch    40  of    100.    Elapsed: 0:00:06.\n",
            "  Batch    80  of    100.    Elapsed: 0:00:11.\n",
            "  Average training loss: 0.01, Accuracy: 1.00\n",
            "  Training epcoh took: 0:00:14\n",
            "\n",
            "  Accuracy: 0.80\n",
            "  Validation took: 0:00:00\n",
            "\n",
            "[ Epoch 30 / 30 ]\n",
            "\n",
            "  Batch    40  of    100.    Elapsed: 0:00:06.\n",
            "  Batch    80  of    100.    Elapsed: 0:00:11.\n",
            "  Average training loss: 0.00, Accuracy: 1.00\n",
            "  Training epcoh took: 0:00:14\n",
            "\n",
            "  Accuracy: 0.79\n",
            "  Validation took: 0:00:00\n",
            "\n"
          ],
          "name": "stdout"
        }
      ]
    },
    {
      "cell_type": "markdown",
      "metadata": {
        "id": "hxEuI7uiAnit"
      },
      "source": [
        "### 模型loss隨epoch數的變化"
      ]
    },
    {
      "cell_type": "code",
      "metadata": {
        "colab": {
          "base_uri": "https://localhost:8080/",
          "height": 542
        },
        "id": "pNVr7JGp54R-",
        "outputId": "20f25519-377f-4ab7-a4b0-a1c0c4d4c83d"
      },
      "source": [
        "f = pd.DataFrame(loss_values)\n",
        "f.columns=['Loss']\n",
        "fig = px.line(f, x=f.index, y=f.Loss)\n",
        "fig.update_layout(title='Training loss of the Model',\n",
        "                  xaxis_title='Epoch',\n",
        "                  yaxis_title='Loss')\n",
        "fig.show()"
      ],
      "execution_count": null,
      "outputs": [
        {
          "output_type": "display_data",
          "data": {
            "text/html": [
              "<html>\n",
              "<head><meta charset=\"utf-8\" /></head>\n",
              "<body>\n",
              "    <div>\n",
              "            <script src=\"https://cdnjs.cloudflare.com/ajax/libs/mathjax/2.7.5/MathJax.js?config=TeX-AMS-MML_SVG\"></script><script type=\"text/javascript\">if (window.MathJax) {MathJax.Hub.Config({SVG: {font: \"STIX-Web\"}});}</script>\n",
              "                <script type=\"text/javascript\">window.PlotlyConfig = {MathJaxConfig: 'local'};</script>\n",
              "        <script src=\"https://cdn.plot.ly/plotly-latest.min.js\"></script>    \n",
              "            <div id=\"943f46fd-2822-4f20-ab3e-315c013c85bd\" class=\"plotly-graph-div\" style=\"height:525px; width:100%;\"></div>\n",
              "            <script type=\"text/javascript\">\n",
              "                \n",
              "                    window.PLOTLYENV=window.PLOTLYENV || {};\n",
              "                    \n",
              "                if (document.getElementById(\"943f46fd-2822-4f20-ab3e-315c013c85bd\")) {\n",
              "                    Plotly.newPlot(\n",
              "                        '943f46fd-2822-4f20-ab3e-315c013c85bd',\n",
              "                        [{\"hoverlabel\": {\"namelength\": 0}, \"hovertemplate\": \"index=%{x}<br>Loss=%{y}\", \"legendgroup\": \"\", \"line\": {\"color\": \"#636efa\", \"dash\": \"solid\"}, \"mode\": \"lines\", \"name\": \"\", \"showlegend\": false, \"type\": \"scatter\", \"x\": [0, 1, 2, 3, 4, 5, 6, 7, 8, 9, 10, 11, 12, 13, 14, 15, 16, 17, 18, 19, 20, 21, 22, 23, 24, 25, 26, 27, 28, 29], \"xaxis\": \"x\", \"y\": [1.2568609750270843, 0.8753005647659302, 0.5658487935364246, 0.3425012900680304, 0.2116068283468485, 0.12537626600824298, 0.07562153377337381, 0.07629687840351834, 0.05198095070547424, 0.04271607541595586, 0.04801709948689677, 0.029284453419968486, 0.017975746256415733, 0.03537954683182761, 0.0147971326316474, 0.01240871311747469, 0.01622899229201721, 0.015090761131432373, 0.012755875510920304, 0.009642587218113476, 0.01758620165841421, 0.02158607071120059, 0.017406113808974624, 0.003246322789636906, 0.006531124187167734, 0.0018006864076596685, 0.00029573956693639046, 0.017999609038415656, 0.010404745412961347, 0.0027764140210638287], \"yaxis\": \"y\"}],\n",
              "                        {\"legend\": {\"tracegroupgap\": 0}, \"margin\": {\"t\": 60}, \"template\": {\"data\": {\"bar\": [{\"error_x\": {\"color\": \"#2a3f5f\"}, \"error_y\": {\"color\": \"#2a3f5f\"}, \"marker\": {\"line\": {\"color\": \"#E5ECF6\", \"width\": 0.5}}, \"type\": \"bar\"}], \"barpolar\": [{\"marker\": {\"line\": {\"color\": \"#E5ECF6\", \"width\": 0.5}}, \"type\": \"barpolar\"}], \"carpet\": [{\"aaxis\": {\"endlinecolor\": \"#2a3f5f\", \"gridcolor\": \"white\", \"linecolor\": \"white\", \"minorgridcolor\": \"white\", \"startlinecolor\": \"#2a3f5f\"}, \"baxis\": {\"endlinecolor\": \"#2a3f5f\", \"gridcolor\": \"white\", \"linecolor\": \"white\", \"minorgridcolor\": \"white\", \"startlinecolor\": \"#2a3f5f\"}, \"type\": \"carpet\"}], \"choropleth\": [{\"colorbar\": {\"outlinewidth\": 0, \"ticks\": \"\"}, \"type\": \"choropleth\"}], \"contour\": [{\"colorbar\": {\"outlinewidth\": 0, \"ticks\": \"\"}, \"colorscale\": [[0.0, \"#0d0887\"], [0.1111111111111111, \"#46039f\"], [0.2222222222222222, \"#7201a8\"], [0.3333333333333333, \"#9c179e\"], [0.4444444444444444, \"#bd3786\"], [0.5555555555555556, \"#d8576b\"], [0.6666666666666666, \"#ed7953\"], [0.7777777777777778, \"#fb9f3a\"], [0.8888888888888888, \"#fdca26\"], [1.0, \"#f0f921\"]], \"type\": \"contour\"}], \"contourcarpet\": [{\"colorbar\": {\"outlinewidth\": 0, \"ticks\": \"\"}, \"type\": \"contourcarpet\"}], \"heatmap\": [{\"colorbar\": {\"outlinewidth\": 0, \"ticks\": \"\"}, \"colorscale\": [[0.0, \"#0d0887\"], [0.1111111111111111, \"#46039f\"], [0.2222222222222222, \"#7201a8\"], [0.3333333333333333, \"#9c179e\"], [0.4444444444444444, \"#bd3786\"], [0.5555555555555556, \"#d8576b\"], [0.6666666666666666, \"#ed7953\"], [0.7777777777777778, \"#fb9f3a\"], [0.8888888888888888, \"#fdca26\"], [1.0, \"#f0f921\"]], \"type\": \"heatmap\"}], \"heatmapgl\": [{\"colorbar\": {\"outlinewidth\": 0, \"ticks\": \"\"}, \"colorscale\": [[0.0, \"#0d0887\"], [0.1111111111111111, \"#46039f\"], [0.2222222222222222, \"#7201a8\"], [0.3333333333333333, \"#9c179e\"], [0.4444444444444444, \"#bd3786\"], [0.5555555555555556, \"#d8576b\"], [0.6666666666666666, \"#ed7953\"], [0.7777777777777778, \"#fb9f3a\"], [0.8888888888888888, \"#fdca26\"], [1.0, \"#f0f921\"]], \"type\": \"heatmapgl\"}], \"histogram\": [{\"marker\": {\"colorbar\": {\"outlinewidth\": 0, \"ticks\": \"\"}}, \"type\": \"histogram\"}], \"histogram2d\": [{\"colorbar\": {\"outlinewidth\": 0, \"ticks\": \"\"}, \"colorscale\": [[0.0, \"#0d0887\"], [0.1111111111111111, \"#46039f\"], [0.2222222222222222, \"#7201a8\"], [0.3333333333333333, \"#9c179e\"], [0.4444444444444444, \"#bd3786\"], [0.5555555555555556, \"#d8576b\"], [0.6666666666666666, \"#ed7953\"], [0.7777777777777778, \"#fb9f3a\"], [0.8888888888888888, \"#fdca26\"], [1.0, \"#f0f921\"]], \"type\": \"histogram2d\"}], \"histogram2dcontour\": [{\"colorbar\": {\"outlinewidth\": 0, \"ticks\": \"\"}, \"colorscale\": [[0.0, \"#0d0887\"], [0.1111111111111111, \"#46039f\"], [0.2222222222222222, \"#7201a8\"], [0.3333333333333333, \"#9c179e\"], [0.4444444444444444, \"#bd3786\"], [0.5555555555555556, \"#d8576b\"], [0.6666666666666666, \"#ed7953\"], [0.7777777777777778, \"#fb9f3a\"], [0.8888888888888888, \"#fdca26\"], [1.0, \"#f0f921\"]], \"type\": \"histogram2dcontour\"}], \"mesh3d\": [{\"colorbar\": {\"outlinewidth\": 0, \"ticks\": \"\"}, \"type\": \"mesh3d\"}], \"parcoords\": [{\"line\": {\"colorbar\": {\"outlinewidth\": 0, \"ticks\": \"\"}}, \"type\": \"parcoords\"}], \"pie\": [{\"automargin\": true, \"type\": \"pie\"}], \"scatter\": [{\"marker\": {\"colorbar\": {\"outlinewidth\": 0, \"ticks\": \"\"}}, \"type\": \"scatter\"}], \"scatter3d\": [{\"line\": {\"colorbar\": {\"outlinewidth\": 0, \"ticks\": \"\"}}, \"marker\": {\"colorbar\": {\"outlinewidth\": 0, \"ticks\": \"\"}}, \"type\": \"scatter3d\"}], \"scattercarpet\": [{\"marker\": {\"colorbar\": {\"outlinewidth\": 0, \"ticks\": \"\"}}, \"type\": \"scattercarpet\"}], \"scattergeo\": [{\"marker\": {\"colorbar\": {\"outlinewidth\": 0, \"ticks\": \"\"}}, \"type\": \"scattergeo\"}], \"scattergl\": [{\"marker\": {\"colorbar\": {\"outlinewidth\": 0, \"ticks\": \"\"}}, \"type\": \"scattergl\"}], \"scattermapbox\": [{\"marker\": {\"colorbar\": {\"outlinewidth\": 0, \"ticks\": \"\"}}, \"type\": \"scattermapbox\"}], \"scatterpolar\": [{\"marker\": {\"colorbar\": {\"outlinewidth\": 0, \"ticks\": \"\"}}, \"type\": \"scatterpolar\"}], \"scatterpolargl\": [{\"marker\": {\"colorbar\": {\"outlinewidth\": 0, \"ticks\": \"\"}}, \"type\": \"scatterpolargl\"}], \"scatterternary\": [{\"marker\": {\"colorbar\": {\"outlinewidth\": 0, \"ticks\": \"\"}}, \"type\": \"scatterternary\"}], \"surface\": [{\"colorbar\": {\"outlinewidth\": 0, \"ticks\": \"\"}, \"colorscale\": [[0.0, \"#0d0887\"], [0.1111111111111111, \"#46039f\"], [0.2222222222222222, \"#7201a8\"], [0.3333333333333333, \"#9c179e\"], [0.4444444444444444, \"#bd3786\"], [0.5555555555555556, \"#d8576b\"], [0.6666666666666666, \"#ed7953\"], [0.7777777777777778, \"#fb9f3a\"], [0.8888888888888888, \"#fdca26\"], [1.0, \"#f0f921\"]], \"type\": \"surface\"}], \"table\": [{\"cells\": {\"fill\": {\"color\": \"#EBF0F8\"}, \"line\": {\"color\": \"white\"}}, \"header\": {\"fill\": {\"color\": \"#C8D4E3\"}, \"line\": {\"color\": \"white\"}}, \"type\": \"table\"}]}, \"layout\": {\"annotationdefaults\": {\"arrowcolor\": \"#2a3f5f\", \"arrowhead\": 0, \"arrowwidth\": 1}, \"coloraxis\": {\"colorbar\": {\"outlinewidth\": 0, \"ticks\": \"\"}}, \"colorscale\": {\"diverging\": [[0, \"#8e0152\"], [0.1, \"#c51b7d\"], [0.2, \"#de77ae\"], [0.3, \"#f1b6da\"], [0.4, \"#fde0ef\"], [0.5, \"#f7f7f7\"], [0.6, \"#e6f5d0\"], [0.7, \"#b8e186\"], [0.8, \"#7fbc41\"], [0.9, \"#4d9221\"], [1, \"#276419\"]], \"sequential\": [[0.0, \"#0d0887\"], [0.1111111111111111, \"#46039f\"], [0.2222222222222222, \"#7201a8\"], [0.3333333333333333, \"#9c179e\"], [0.4444444444444444, \"#bd3786\"], [0.5555555555555556, \"#d8576b\"], [0.6666666666666666, \"#ed7953\"], [0.7777777777777778, \"#fb9f3a\"], [0.8888888888888888, \"#fdca26\"], [1.0, \"#f0f921\"]], \"sequentialminus\": [[0.0, \"#0d0887\"], [0.1111111111111111, \"#46039f\"], [0.2222222222222222, \"#7201a8\"], [0.3333333333333333, \"#9c179e\"], [0.4444444444444444, \"#bd3786\"], [0.5555555555555556, \"#d8576b\"], [0.6666666666666666, \"#ed7953\"], [0.7777777777777778, \"#fb9f3a\"], [0.8888888888888888, \"#fdca26\"], [1.0, \"#f0f921\"]]}, \"colorway\": [\"#636efa\", \"#EF553B\", \"#00cc96\", \"#ab63fa\", \"#FFA15A\", \"#19d3f3\", \"#FF6692\", \"#B6E880\", \"#FF97FF\", \"#FECB52\"], \"font\": {\"color\": \"#2a3f5f\"}, \"geo\": {\"bgcolor\": \"white\", \"lakecolor\": \"white\", \"landcolor\": \"#E5ECF6\", \"showlakes\": true, \"showland\": true, \"subunitcolor\": \"white\"}, \"hoverlabel\": {\"align\": \"left\"}, \"hovermode\": \"closest\", \"mapbox\": {\"style\": \"light\"}, \"paper_bgcolor\": \"white\", \"plot_bgcolor\": \"#E5ECF6\", \"polar\": {\"angularaxis\": {\"gridcolor\": \"white\", \"linecolor\": \"white\", \"ticks\": \"\"}, \"bgcolor\": \"#E5ECF6\", \"radialaxis\": {\"gridcolor\": \"white\", \"linecolor\": \"white\", \"ticks\": \"\"}}, \"scene\": {\"xaxis\": {\"backgroundcolor\": \"#E5ECF6\", \"gridcolor\": \"white\", \"gridwidth\": 2, \"linecolor\": \"white\", \"showbackground\": true, \"ticks\": \"\", \"zerolinecolor\": \"white\"}, \"yaxis\": {\"backgroundcolor\": \"#E5ECF6\", \"gridcolor\": \"white\", \"gridwidth\": 2, \"linecolor\": \"white\", \"showbackground\": true, \"ticks\": \"\", \"zerolinecolor\": \"white\"}, \"zaxis\": {\"backgroundcolor\": \"#E5ECF6\", \"gridcolor\": \"white\", \"gridwidth\": 2, \"linecolor\": \"white\", \"showbackground\": true, \"ticks\": \"\", \"zerolinecolor\": \"white\"}}, \"shapedefaults\": {\"line\": {\"color\": \"#2a3f5f\"}}, \"ternary\": {\"aaxis\": {\"gridcolor\": \"white\", \"linecolor\": \"white\", \"ticks\": \"\"}, \"baxis\": {\"gridcolor\": \"white\", \"linecolor\": \"white\", \"ticks\": \"\"}, \"bgcolor\": \"#E5ECF6\", \"caxis\": {\"gridcolor\": \"white\", \"linecolor\": \"white\", \"ticks\": \"\"}}, \"title\": {\"x\": 0.05}, \"xaxis\": {\"automargin\": true, \"gridcolor\": \"white\", \"linecolor\": \"white\", \"ticks\": \"\", \"title\": {\"standoff\": 15}, \"zerolinecolor\": \"white\", \"zerolinewidth\": 2}, \"yaxis\": {\"automargin\": true, \"gridcolor\": \"white\", \"linecolor\": \"white\", \"ticks\": \"\", \"title\": {\"standoff\": 15}, \"zerolinecolor\": \"white\", \"zerolinewidth\": 2}}}, \"title\": {\"text\": \"Training loss of the Model\"}, \"xaxis\": {\"anchor\": \"y\", \"domain\": [0.0, 1.0], \"title\": {\"text\": \"Epoch\"}}, \"yaxis\": {\"anchor\": \"x\", \"domain\": [0.0, 1.0], \"title\": {\"text\": \"Loss\"}}},\n",
              "                        {\"responsive\": true}\n",
              "                    ).then(function(){\n",
              "                            \n",
              "var gd = document.getElementById('943f46fd-2822-4f20-ab3e-315c013c85bd');\n",
              "var x = new MutationObserver(function (mutations, observer) {{\n",
              "        var display = window.getComputedStyle(gd).display;\n",
              "        if (!display || display === 'none') {{\n",
              "            console.log([gd, 'removed!']);\n",
              "            Plotly.purge(gd);\n",
              "            observer.disconnect();\n",
              "        }}\n",
              "}});\n",
              "\n",
              "// Listen for the removal of the full notebook cells\n",
              "var notebookContainer = gd.closest('#notebook-container');\n",
              "if (notebookContainer) {{\n",
              "    x.observe(notebookContainer, {childList: true});\n",
              "}}\n",
              "\n",
              "// Listen for the clearing of the current output cell\n",
              "var outputEl = gd.closest('.output');\n",
              "if (outputEl) {{\n",
              "    x.observe(outputEl, {childList: true});\n",
              "}}\n",
              "\n",
              "                        })\n",
              "                };\n",
              "                \n",
              "            </script>\n",
              "        </div>\n",
              "</body>\n",
              "</html>"
            ]
          },
          "metadata": {
            "tags": []
          }
        }
      ]
    },
    {
      "cell_type": "markdown",
      "metadata": {
        "id": "K2RmMVKQ54SK"
      },
      "source": [
        "### **測試模型表現**"
      ]
    },
    {
      "cell_type": "code",
      "metadata": {
        "colab": {
          "base_uri": "https://localhost:8080/"
        },
        "id": "EPfUCY8754SK",
        "outputId": "44b3c692-876d-472b-8634-43198558f895"
      },
      "source": [
        "test_dataloader = generate_dataloader(ts_inputs, ts_labels, batch_size, 'Test')"
      ],
      "execution_count": null,
      "outputs": [
        {
          "output_type": "stream",
          "text": [
            "Testing Data Length: 394\n",
            "Test DataLoader Constructed.\n"
          ],
          "name": "stdout"
        }
      ]
    },
    {
      "cell_type": "code",
      "metadata": {
        "colab": {
          "base_uri": "https://localhost:8080/"
        },
        "id": "5Jgf3yov54SL",
        "outputId": "dd5b5ce0-b9aa-4f37-becb-6b683e2d6546"
      },
      "source": [
        "modelLSTM.eval()\n",
        "predictions , true_labels = [], []\n",
        "\n",
        "test_accuracy = 0\n",
        "nb_test_steps = 0\n",
        "for batch in test_dataloader:\n",
        "    b_input_ids = batch[0].to(device)\n",
        "    b_labels = batch[1].to(device)\n",
        "    \n",
        "    with torch.no_grad():\n",
        "        outputs = modelLSTM(b_input_ids)\n",
        "    \n",
        "    outputs = outputs.detach().cpu().numpy()\n",
        "    label_ids = b_labels.to('cpu').numpy()\n",
        "        \n",
        "    tmp_test_accuracy = flat_accuracy(outputs, label_ids)\n",
        "    \n",
        "    test_accuracy += tmp_test_accuracy\n",
        "    nb_test_steps += 1\n",
        "    \n",
        "    predictions.append(outputs)\n",
        "    true_labels.append(label_ids)\n",
        "    \n",
        "print(\"  Accuracy: {0:.2f}\".format(test_accuracy/nb_test_steps))"
      ],
      "execution_count": null,
      "outputs": [
        {
          "output_type": "stream",
          "text": [
            "  Accuracy: 0.81\n"
          ],
          "name": "stdout"
        }
      ]
    },
    {
      "cell_type": "markdown",
      "metadata": {
        "id": "uWMsdF7h54SM"
      },
      "source": [
        "-----"
      ]
    },
    {
      "cell_type": "markdown",
      "metadata": {
        "id": "-7twgTG_54SN"
      },
      "source": [
        "## **使用預訓練 BERT 模型區分文章類別**"
      ]
    },
    {
      "cell_type": "markdown",
      "metadata": {
        "id": "NR6gWvXZBI1h"
      },
      "source": [
        "### **資料前處理**"
      ]
    },
    {
      "cell_type": "markdown",
      "metadata": {
        "id": "jiBcF7fBBndt"
      },
      "source": [
        "#### Tokenize"
      ]
    },
    {
      "cell_type": "code",
      "metadata": {
        "colab": {
          "base_uri": "https://localhost:8080/",
          "height": 320,
          "referenced_widgets": [
            "e0c88dfe14db4580bb68770843515287",
            "85865543e5844de088490f362ee926d4",
            "c420826ebd45434387243e606a46c4f3",
            "8ff1a8711e6349118d0ec2f7df0f16ec",
            "408d5855865940c3a3137ea8029eaa1e",
            "7f39b0f8847f4331a904b3d0b1790b10",
            "6f96303ecccb4af0bdc5dffeeb1424c9",
            "9b9a509f31084dd3a18b6818adc781a8",
            "da4a8d409a194d338cda6e0732b760e8",
            "d98b11ed1b3a495982e760ce38ec83cf",
            "08100e1fd73d45a2b447447fd81e3caf",
            "de783c2d44f84f66ba2a5678af30819d",
            "005ae016690c437580040049d93a1096",
            "59ac100473f2440a86e93c6c5441e94b",
            "633c3d81db4445b095a1ba7d3108cf1f",
            "e7f710937d1c47f3b07720e772c9790f",
            "3fe9783c1c3a46c88fd54752f625e78f",
            "bf2ff10c5d054ff995bc2eb6975c8058",
            "56b6e597141e4d89bd1027b696949399",
            "e471ab306e3b44709bbfce403f6a5ccb",
            "b9047d75b4684b02a1b7c6d57d5096f4",
            "ddecd004d72f4206ae1a0dda7b305d71",
            "2abfb99218cf4e8fab169d80fcf92aa2",
            "f76422ad0af3432fa6797cfeef0244e4"
          ]
        },
        "id": "dP-CZf5fBgbw",
        "outputId": "8abf9b09-aef9-47b0-c46d-6af74216fae6"
      },
      "source": [
        "# 預訓練的BERT模型可以直接呼叫tokenizer來將文字向量化\n",
        "tokenizer = BertTokenizer.from_pretrained('bert-base-chinese')\n",
        "\n",
        "MAX_LEN = max([len(topic) for topic in topics])\n",
        "\n",
        "input_ids = []\n",
        "attention_masks = []\n",
        "\n",
        "for topic in topics:\n",
        "    encoded_topic = tokenizer.encode(topic,\n",
        "                                     add_special_tokens = False,\n",
        "                                     max_length=MAX_LEN,\n",
        "                                     pad_to_max_length=True,\n",
        "                                     return_attention_mask=True)\n",
        "    input_ids.append(encoded_topic)\n",
        "    \n",
        "    att_mask = [int(token_id > 0)for token_id in encoded_topic]\n",
        "    attention_masks.append(att_mask)\n",
        "    \n",
        "# Print sentence 0, now as a list of IDs.\n",
        "print('Original: ', topics[0])\n",
        "print('Token IDs:', input_ids[0])\n",
        "print('Attention Masks:', attention_masks[0])"
      ],
      "execution_count": null,
      "outputs": [
        {
          "output_type": "display_data",
          "data": {
            "application/vnd.jupyter.widget-view+json": {
              "model_id": "e0c88dfe14db4580bb68770843515287",
              "version_minor": 0,
              "version_major": 2
            },
            "text/plain": [
              "HBox(children=(FloatProgress(value=0.0, description='Downloading', max=109540.0, style=ProgressStyle(descripti…"
            ]
          },
          "metadata": {
            "tags": []
          }
        },
        {
          "output_type": "stream",
          "text": [
            "\n"
          ],
          "name": "stdout"
        },
        {
          "output_type": "display_data",
          "data": {
            "application/vnd.jupyter.widget-view+json": {
              "model_id": "da4a8d409a194d338cda6e0732b760e8",
              "version_minor": 0,
              "version_major": 2
            },
            "text/plain": [
              "HBox(children=(FloatProgress(value=0.0, description='Downloading', max=29.0, style=ProgressStyle(description_w…"
            ]
          },
          "metadata": {
            "tags": []
          }
        },
        {
          "output_type": "stream",
          "text": [
            "\n"
          ],
          "name": "stdout"
        },
        {
          "output_type": "display_data",
          "data": {
            "application/vnd.jupyter.widget-view+json": {
              "model_id": "3fe9783c1c3a46c88fd54752f625e78f",
              "version_minor": 0,
              "version_major": 2
            },
            "text/plain": [
              "HBox(children=(FloatProgress(value=0.0, description='Downloading', max=268943.0, style=ProgressStyle(descripti…"
            ]
          },
          "metadata": {
            "tags": []
          }
        },
        {
          "output_type": "stream",
          "text": [
            "Truncation was not explicitly activated but `max_length` is provided a specific value, please use `truncation=True` to explicitly truncate examples to max length. Defaulting to 'longest_first' truncation strategy. If you encode pairs of sequences (GLUE-style) with the tokenizer you can select this strategy more precisely by providing a specific strategy to `truncation`.\n"
          ],
          "name": "stderr"
        },
        {
          "output_type": "stream",
          "text": [
            "\n"
          ],
          "name": "stdout"
        },
        {
          "output_type": "stream",
          "text": [
            "/usr/local/lib/python3.7/dist-packages/transformers/tokenization_utils_base.py:2079: FutureWarning:\n",
            "\n",
            "The `pad_to_max_length` argument is deprecated and will be removed in a future version, use `padding=True` or `padding='longest'` to pad to the longest sequence in the batch, or use `padding='max_length'` to pad to a max length. In this case, you can give a specific length with `max_length` (e.g. `max_length=45`) or leave max_length to None to pad to the maximal input size of the model (e.g. 512 for Bert).\n",
            "\n"
          ],
          "name": "stderr"
        },
        {
          "output_type": "stream",
          "text": [
            "Original:  這樣子還要繼續嗎\n",
            "Token IDs: [6857, 3564, 2094, 6917, 6206, 5262, 5265, 1621, 0, 0, 0, 0, 0, 0, 0, 0, 0, 0, 0, 0, 0, 0, 0, 0, 0, 0, 0, 0, 0, 0, 0, 0, 0, 0, 0, 0, 0, 0, 0, 0, 0, 0, 0, 0, 0, 0, 0, 0, 0, 0, 0, 0, 0, 0, 0]\n",
            "Attention Masks: [1, 1, 1, 1, 1, 1, 1, 1, 0, 0, 0, 0, 0, 0, 0, 0, 0, 0, 0, 0, 0, 0, 0, 0, 0, 0, 0, 0, 0, 0, 0, 0, 0, 0, 0, 0, 0, 0, 0, 0, 0, 0, 0, 0, 0, 0, 0, 0, 0, 0, 0, 0, 0, 0, 0]\n"
          ],
          "name": "stdout"
        }
      ]
    },
    {
      "cell_type": "markdown",
      "metadata": {
        "id": "AkDrrMFyCNsm"
      },
      "source": [
        "#### 建立數值化的資料標籤 (labels)"
      ]
    },
    {
      "cell_type": "code",
      "metadata": {
        "id": "4mmaUWrqCNsm"
      },
      "source": [
        "board_id = {'BoyGirl':0, 'HatePolitics':1, 'NBA':2, 'Stock':3}\n",
        "labels = [board_id[b] for b in boards]"
      ],
      "execution_count": null,
      "outputs": []
    },
    {
      "cell_type": "markdown",
      "metadata": {
        "id": "wn75Bz9BCiVm"
      },
      "source": [
        "### **拆分 Training Set 與 Testing Set**"
      ]
    },
    {
      "cell_type": "code",
      "metadata": {
        "id": "16M7i6JGCiVn"
      },
      "source": [
        "tr_inputs, ts_inputs, tr_labels, ts_labels =\\\n",
        "                    train_test_split(input_ids, labels, random_state=807, test_size=0.1)\n",
        "tr_masks, ts_masks, _, _ =\\\n",
        "                    train_test_split(attention_masks, labels, random_state=807, test_size=0.1)"
      ],
      "execution_count": null,
      "outputs": []
    },
    {
      "cell_type": "markdown",
      "metadata": {
        "id": "TCFqI_BICiVn"
      },
      "source": [
        "### **建立 DataSet 與 DataLoader**"
      ]
    },
    {
      "cell_type": "code",
      "metadata": {
        "colab": {
          "base_uri": "https://localhost:8080/"
        },
        "id": "xIxyUgdPCiVn",
        "outputId": "f1d44a09-e9f4-4dfb-a857-db9781ef59d5"
      },
      "source": [
        "batch_size = 32 ## 16 or 32\n",
        "train_dataloader = generate_dataloader(tr_inputs, tr_labels, batch_size, 'Train', masks = tr_masks)\n",
        "validation_dataloader = generate_dataloader(tr_inputs, tr_labels, batch_size, 'Validation', masks = tr_masks)"
      ],
      "execution_count": null,
      "outputs": [
        {
          "output_type": "stream",
          "text": [
            "Training Data Length: 3184\n",
            "Train DataLoader Constructed.\n",
            "Validation Data Length: 354\n",
            "Validation DataLoader Constructed.\n"
          ],
          "name": "stdout"
        }
      ]
    },
    {
      "cell_type": "markdown",
      "metadata": {
        "id": "50mgPsq2CraX"
      },
      "source": [
        "## **建立 BERT 模型**"
      ]
    },
    {
      "cell_type": "code",
      "metadata": {
        "colab": {
          "base_uri": "https://localhost:8080/",
          "height": 220,
          "referenced_widgets": [
            "835c07db519b4502ba4e51653ff30a6d",
            "2d7a757476f54d3881136bf0a3bbab29",
            "5379185d27e44022a366b367c280ff1f",
            "9635d27623684955ad6273cbaa68fd4e",
            "de55b96e2997495fbd9f78d7c29e68ce",
            "7daa5f62508c4f3390fc86dc77d5a467",
            "7b33cc817b06473387bad5da01255b7a",
            "1b68ab5e85fd4ac0a2b4a0c817d1074c",
            "b31ee07371134b058468e1c2bb4d75f3",
            "08592c29870042db9f54110dee69b48e",
            "bf9dccd51cb9485697aea22c6a1f7cc4",
            "39408404f0344be7923db71a447a66f0",
            "62f0c556d5ac407f9764175c29aaec8c",
            "63114a7b7bfe4e8cbaa9e9e925bc0a62",
            "7e4338aad56d4770b044d6b6d3e537ce",
            "032e232601564512a3a741805459992a"
          ]
        },
        "id": "wZ9CAlU-54SN",
        "outputId": "cdaa2c80-36b7-4116-ee94-a4a4a70fa6f8"
      },
      "source": [
        "modelBERT = BertForSequenceClassification.from_pretrained('bert-base-chinese',\n",
        "                                                      num_labels = 4,\n",
        "                                                      output_attentions = False,\n",
        "                                                      output_hidden_states = False)"
      ],
      "execution_count": null,
      "outputs": [
        {
          "output_type": "display_data",
          "data": {
            "application/vnd.jupyter.widget-view+json": {
              "model_id": "835c07db519b4502ba4e51653ff30a6d",
              "version_minor": 0,
              "version_major": 2
            },
            "text/plain": [
              "HBox(children=(FloatProgress(value=0.0, description='Downloading', max=624.0, style=ProgressStyle(description_…"
            ]
          },
          "metadata": {
            "tags": []
          }
        },
        {
          "output_type": "stream",
          "text": [
            "\n"
          ],
          "name": "stdout"
        },
        {
          "output_type": "display_data",
          "data": {
            "application/vnd.jupyter.widget-view+json": {
              "model_id": "b31ee07371134b058468e1c2bb4d75f3",
              "version_minor": 0,
              "version_major": 2
            },
            "text/plain": [
              "HBox(children=(FloatProgress(value=0.0, description='Downloading', max=411577189.0, style=ProgressStyle(descri…"
            ]
          },
          "metadata": {
            "tags": []
          }
        },
        {
          "output_type": "stream",
          "text": [
            "\n"
          ],
          "name": "stdout"
        },
        {
          "output_type": "stream",
          "text": [
            "Some weights of the model checkpoint at bert-base-chinese were not used when initializing BertForSequenceClassification: ['cls.predictions.bias', 'cls.predictions.transform.dense.weight', 'cls.predictions.transform.dense.bias', 'cls.predictions.decoder.weight', 'cls.seq_relationship.weight', 'cls.seq_relationship.bias', 'cls.predictions.transform.LayerNorm.weight', 'cls.predictions.transform.LayerNorm.bias']\n",
            "- This IS expected if you are initializing BertForSequenceClassification from the checkpoint of a model trained on another task or with another architecture (e.g. initializing a BertForSequenceClassification model from a BertForPreTraining model).\n",
            "- This IS NOT expected if you are initializing BertForSequenceClassification from the checkpoint of a model that you expect to be exactly identical (initializing a BertForSequenceClassification model from a BertForSequenceClassification model).\n",
            "Some weights of BertForSequenceClassification were not initialized from the model checkpoint at bert-base-chinese and are newly initialized: ['classifier.weight', 'classifier.bias']\n",
            "You should probably TRAIN this model on a down-stream task to be able to use it for predictions and inference.\n"
          ],
          "name": "stderr"
        }
      ]
    },
    {
      "cell_type": "code",
      "metadata": {
        "id": "c8_JC0fh54SN"
      },
      "source": [
        "optimizer = AdamW(modelBERT.parameters(), lr = 2e-5)\n",
        "epochs = 4 ## 2, 3, or 4\n",
        "total_steps = len(train_dataloader) * epochs\n",
        "\n",
        "# 調整 learning rate\n",
        "scheduler = get_linear_schedule_with_warmup(optimizer, \n",
        "                                            num_warmup_steps = 0,\n",
        "                                            num_training_steps = total_steps)"
      ],
      "execution_count": null,
      "outputs": []
    },
    {
      "cell_type": "markdown",
      "metadata": {
        "id": "dj4teE0E54SN"
      },
      "source": [
        "- 觀察 BERT classifier 的模型結構 (遠比 LSTM 模型複雜)"
      ]
    },
    {
      "cell_type": "code",
      "metadata": {
        "colab": {
          "base_uri": "https://localhost:8080/"
        },
        "id": "dTX91tex54SO",
        "outputId": "9735d7f6-438e-464a-c9f0-2ea441f4bd33"
      },
      "source": [
        "modelBERT.parameters"
      ],
      "execution_count": null,
      "outputs": [
        {
          "output_type": "execute_result",
          "data": {
            "text/plain": [
              "<bound method Module.parameters of BertForSequenceClassification(\n",
              "  (bert): BertModel(\n",
              "    (embeddings): BertEmbeddings(\n",
              "      (word_embeddings): Embedding(21128, 768, padding_idx=0)\n",
              "      (position_embeddings): Embedding(512, 768)\n",
              "      (token_type_embeddings): Embedding(2, 768)\n",
              "      (LayerNorm): LayerNorm((768,), eps=1e-12, elementwise_affine=True)\n",
              "      (dropout): Dropout(p=0.1, inplace=False)\n",
              "    )\n",
              "    (encoder): BertEncoder(\n",
              "      (layer): ModuleList(\n",
              "        (0): BertLayer(\n",
              "          (attention): BertAttention(\n",
              "            (self): BertSelfAttention(\n",
              "              (query): Linear(in_features=768, out_features=768, bias=True)\n",
              "              (key): Linear(in_features=768, out_features=768, bias=True)\n",
              "              (value): Linear(in_features=768, out_features=768, bias=True)\n",
              "              (dropout): Dropout(p=0.1, inplace=False)\n",
              "            )\n",
              "            (output): BertSelfOutput(\n",
              "              (dense): Linear(in_features=768, out_features=768, bias=True)\n",
              "              (LayerNorm): LayerNorm((768,), eps=1e-12, elementwise_affine=True)\n",
              "              (dropout): Dropout(p=0.1, inplace=False)\n",
              "            )\n",
              "          )\n",
              "          (intermediate): BertIntermediate(\n",
              "            (dense): Linear(in_features=768, out_features=3072, bias=True)\n",
              "          )\n",
              "          (output): BertOutput(\n",
              "            (dense): Linear(in_features=3072, out_features=768, bias=True)\n",
              "            (LayerNorm): LayerNorm((768,), eps=1e-12, elementwise_affine=True)\n",
              "            (dropout): Dropout(p=0.1, inplace=False)\n",
              "          )\n",
              "        )\n",
              "        (1): BertLayer(\n",
              "          (attention): BertAttention(\n",
              "            (self): BertSelfAttention(\n",
              "              (query): Linear(in_features=768, out_features=768, bias=True)\n",
              "              (key): Linear(in_features=768, out_features=768, bias=True)\n",
              "              (value): Linear(in_features=768, out_features=768, bias=True)\n",
              "              (dropout): Dropout(p=0.1, inplace=False)\n",
              "            )\n",
              "            (output): BertSelfOutput(\n",
              "              (dense): Linear(in_features=768, out_features=768, bias=True)\n",
              "              (LayerNorm): LayerNorm((768,), eps=1e-12, elementwise_affine=True)\n",
              "              (dropout): Dropout(p=0.1, inplace=False)\n",
              "            )\n",
              "          )\n",
              "          (intermediate): BertIntermediate(\n",
              "            (dense): Linear(in_features=768, out_features=3072, bias=True)\n",
              "          )\n",
              "          (output): BertOutput(\n",
              "            (dense): Linear(in_features=3072, out_features=768, bias=True)\n",
              "            (LayerNorm): LayerNorm((768,), eps=1e-12, elementwise_affine=True)\n",
              "            (dropout): Dropout(p=0.1, inplace=False)\n",
              "          )\n",
              "        )\n",
              "        (2): BertLayer(\n",
              "          (attention): BertAttention(\n",
              "            (self): BertSelfAttention(\n",
              "              (query): Linear(in_features=768, out_features=768, bias=True)\n",
              "              (key): Linear(in_features=768, out_features=768, bias=True)\n",
              "              (value): Linear(in_features=768, out_features=768, bias=True)\n",
              "              (dropout): Dropout(p=0.1, inplace=False)\n",
              "            )\n",
              "            (output): BertSelfOutput(\n",
              "              (dense): Linear(in_features=768, out_features=768, bias=True)\n",
              "              (LayerNorm): LayerNorm((768,), eps=1e-12, elementwise_affine=True)\n",
              "              (dropout): Dropout(p=0.1, inplace=False)\n",
              "            )\n",
              "          )\n",
              "          (intermediate): BertIntermediate(\n",
              "            (dense): Linear(in_features=768, out_features=3072, bias=True)\n",
              "          )\n",
              "          (output): BertOutput(\n",
              "            (dense): Linear(in_features=3072, out_features=768, bias=True)\n",
              "            (LayerNorm): LayerNorm((768,), eps=1e-12, elementwise_affine=True)\n",
              "            (dropout): Dropout(p=0.1, inplace=False)\n",
              "          )\n",
              "        )\n",
              "        (3): BertLayer(\n",
              "          (attention): BertAttention(\n",
              "            (self): BertSelfAttention(\n",
              "              (query): Linear(in_features=768, out_features=768, bias=True)\n",
              "              (key): Linear(in_features=768, out_features=768, bias=True)\n",
              "              (value): Linear(in_features=768, out_features=768, bias=True)\n",
              "              (dropout): Dropout(p=0.1, inplace=False)\n",
              "            )\n",
              "            (output): BertSelfOutput(\n",
              "              (dense): Linear(in_features=768, out_features=768, bias=True)\n",
              "              (LayerNorm): LayerNorm((768,), eps=1e-12, elementwise_affine=True)\n",
              "              (dropout): Dropout(p=0.1, inplace=False)\n",
              "            )\n",
              "          )\n",
              "          (intermediate): BertIntermediate(\n",
              "            (dense): Linear(in_features=768, out_features=3072, bias=True)\n",
              "          )\n",
              "          (output): BertOutput(\n",
              "            (dense): Linear(in_features=3072, out_features=768, bias=True)\n",
              "            (LayerNorm): LayerNorm((768,), eps=1e-12, elementwise_affine=True)\n",
              "            (dropout): Dropout(p=0.1, inplace=False)\n",
              "          )\n",
              "        )\n",
              "        (4): BertLayer(\n",
              "          (attention): BertAttention(\n",
              "            (self): BertSelfAttention(\n",
              "              (query): Linear(in_features=768, out_features=768, bias=True)\n",
              "              (key): Linear(in_features=768, out_features=768, bias=True)\n",
              "              (value): Linear(in_features=768, out_features=768, bias=True)\n",
              "              (dropout): Dropout(p=0.1, inplace=False)\n",
              "            )\n",
              "            (output): BertSelfOutput(\n",
              "              (dense): Linear(in_features=768, out_features=768, bias=True)\n",
              "              (LayerNorm): LayerNorm((768,), eps=1e-12, elementwise_affine=True)\n",
              "              (dropout): Dropout(p=0.1, inplace=False)\n",
              "            )\n",
              "          )\n",
              "          (intermediate): BertIntermediate(\n",
              "            (dense): Linear(in_features=768, out_features=3072, bias=True)\n",
              "          )\n",
              "          (output): BertOutput(\n",
              "            (dense): Linear(in_features=3072, out_features=768, bias=True)\n",
              "            (LayerNorm): LayerNorm((768,), eps=1e-12, elementwise_affine=True)\n",
              "            (dropout): Dropout(p=0.1, inplace=False)\n",
              "          )\n",
              "        )\n",
              "        (5): BertLayer(\n",
              "          (attention): BertAttention(\n",
              "            (self): BertSelfAttention(\n",
              "              (query): Linear(in_features=768, out_features=768, bias=True)\n",
              "              (key): Linear(in_features=768, out_features=768, bias=True)\n",
              "              (value): Linear(in_features=768, out_features=768, bias=True)\n",
              "              (dropout): Dropout(p=0.1, inplace=False)\n",
              "            )\n",
              "            (output): BertSelfOutput(\n",
              "              (dense): Linear(in_features=768, out_features=768, bias=True)\n",
              "              (LayerNorm): LayerNorm((768,), eps=1e-12, elementwise_affine=True)\n",
              "              (dropout): Dropout(p=0.1, inplace=False)\n",
              "            )\n",
              "          )\n",
              "          (intermediate): BertIntermediate(\n",
              "            (dense): Linear(in_features=768, out_features=3072, bias=True)\n",
              "          )\n",
              "          (output): BertOutput(\n",
              "            (dense): Linear(in_features=3072, out_features=768, bias=True)\n",
              "            (LayerNorm): LayerNorm((768,), eps=1e-12, elementwise_affine=True)\n",
              "            (dropout): Dropout(p=0.1, inplace=False)\n",
              "          )\n",
              "        )\n",
              "        (6): BertLayer(\n",
              "          (attention): BertAttention(\n",
              "            (self): BertSelfAttention(\n",
              "              (query): Linear(in_features=768, out_features=768, bias=True)\n",
              "              (key): Linear(in_features=768, out_features=768, bias=True)\n",
              "              (value): Linear(in_features=768, out_features=768, bias=True)\n",
              "              (dropout): Dropout(p=0.1, inplace=False)\n",
              "            )\n",
              "            (output): BertSelfOutput(\n",
              "              (dense): Linear(in_features=768, out_features=768, bias=True)\n",
              "              (LayerNorm): LayerNorm((768,), eps=1e-12, elementwise_affine=True)\n",
              "              (dropout): Dropout(p=0.1, inplace=False)\n",
              "            )\n",
              "          )\n",
              "          (intermediate): BertIntermediate(\n",
              "            (dense): Linear(in_features=768, out_features=3072, bias=True)\n",
              "          )\n",
              "          (output): BertOutput(\n",
              "            (dense): Linear(in_features=3072, out_features=768, bias=True)\n",
              "            (LayerNorm): LayerNorm((768,), eps=1e-12, elementwise_affine=True)\n",
              "            (dropout): Dropout(p=0.1, inplace=False)\n",
              "          )\n",
              "        )\n",
              "        (7): BertLayer(\n",
              "          (attention): BertAttention(\n",
              "            (self): BertSelfAttention(\n",
              "              (query): Linear(in_features=768, out_features=768, bias=True)\n",
              "              (key): Linear(in_features=768, out_features=768, bias=True)\n",
              "              (value): Linear(in_features=768, out_features=768, bias=True)\n",
              "              (dropout): Dropout(p=0.1, inplace=False)\n",
              "            )\n",
              "            (output): BertSelfOutput(\n",
              "              (dense): Linear(in_features=768, out_features=768, bias=True)\n",
              "              (LayerNorm): LayerNorm((768,), eps=1e-12, elementwise_affine=True)\n",
              "              (dropout): Dropout(p=0.1, inplace=False)\n",
              "            )\n",
              "          )\n",
              "          (intermediate): BertIntermediate(\n",
              "            (dense): Linear(in_features=768, out_features=3072, bias=True)\n",
              "          )\n",
              "          (output): BertOutput(\n",
              "            (dense): Linear(in_features=3072, out_features=768, bias=True)\n",
              "            (LayerNorm): LayerNorm((768,), eps=1e-12, elementwise_affine=True)\n",
              "            (dropout): Dropout(p=0.1, inplace=False)\n",
              "          )\n",
              "        )\n",
              "        (8): BertLayer(\n",
              "          (attention): BertAttention(\n",
              "            (self): BertSelfAttention(\n",
              "              (query): Linear(in_features=768, out_features=768, bias=True)\n",
              "              (key): Linear(in_features=768, out_features=768, bias=True)\n",
              "              (value): Linear(in_features=768, out_features=768, bias=True)\n",
              "              (dropout): Dropout(p=0.1, inplace=False)\n",
              "            )\n",
              "            (output): BertSelfOutput(\n",
              "              (dense): Linear(in_features=768, out_features=768, bias=True)\n",
              "              (LayerNorm): LayerNorm((768,), eps=1e-12, elementwise_affine=True)\n",
              "              (dropout): Dropout(p=0.1, inplace=False)\n",
              "            )\n",
              "          )\n",
              "          (intermediate): BertIntermediate(\n",
              "            (dense): Linear(in_features=768, out_features=3072, bias=True)\n",
              "          )\n",
              "          (output): BertOutput(\n",
              "            (dense): Linear(in_features=3072, out_features=768, bias=True)\n",
              "            (LayerNorm): LayerNorm((768,), eps=1e-12, elementwise_affine=True)\n",
              "            (dropout): Dropout(p=0.1, inplace=False)\n",
              "          )\n",
              "        )\n",
              "        (9): BertLayer(\n",
              "          (attention): BertAttention(\n",
              "            (self): BertSelfAttention(\n",
              "              (query): Linear(in_features=768, out_features=768, bias=True)\n",
              "              (key): Linear(in_features=768, out_features=768, bias=True)\n",
              "              (value): Linear(in_features=768, out_features=768, bias=True)\n",
              "              (dropout): Dropout(p=0.1, inplace=False)\n",
              "            )\n",
              "            (output): BertSelfOutput(\n",
              "              (dense): Linear(in_features=768, out_features=768, bias=True)\n",
              "              (LayerNorm): LayerNorm((768,), eps=1e-12, elementwise_affine=True)\n",
              "              (dropout): Dropout(p=0.1, inplace=False)\n",
              "            )\n",
              "          )\n",
              "          (intermediate): BertIntermediate(\n",
              "            (dense): Linear(in_features=768, out_features=3072, bias=True)\n",
              "          )\n",
              "          (output): BertOutput(\n",
              "            (dense): Linear(in_features=3072, out_features=768, bias=True)\n",
              "            (LayerNorm): LayerNorm((768,), eps=1e-12, elementwise_affine=True)\n",
              "            (dropout): Dropout(p=0.1, inplace=False)\n",
              "          )\n",
              "        )\n",
              "        (10): BertLayer(\n",
              "          (attention): BertAttention(\n",
              "            (self): BertSelfAttention(\n",
              "              (query): Linear(in_features=768, out_features=768, bias=True)\n",
              "              (key): Linear(in_features=768, out_features=768, bias=True)\n",
              "              (value): Linear(in_features=768, out_features=768, bias=True)\n",
              "              (dropout): Dropout(p=0.1, inplace=False)\n",
              "            )\n",
              "            (output): BertSelfOutput(\n",
              "              (dense): Linear(in_features=768, out_features=768, bias=True)\n",
              "              (LayerNorm): LayerNorm((768,), eps=1e-12, elementwise_affine=True)\n",
              "              (dropout): Dropout(p=0.1, inplace=False)\n",
              "            )\n",
              "          )\n",
              "          (intermediate): BertIntermediate(\n",
              "            (dense): Linear(in_features=768, out_features=3072, bias=True)\n",
              "          )\n",
              "          (output): BertOutput(\n",
              "            (dense): Linear(in_features=3072, out_features=768, bias=True)\n",
              "            (LayerNorm): LayerNorm((768,), eps=1e-12, elementwise_affine=True)\n",
              "            (dropout): Dropout(p=0.1, inplace=False)\n",
              "          )\n",
              "        )\n",
              "        (11): BertLayer(\n",
              "          (attention): BertAttention(\n",
              "            (self): BertSelfAttention(\n",
              "              (query): Linear(in_features=768, out_features=768, bias=True)\n",
              "              (key): Linear(in_features=768, out_features=768, bias=True)\n",
              "              (value): Linear(in_features=768, out_features=768, bias=True)\n",
              "              (dropout): Dropout(p=0.1, inplace=False)\n",
              "            )\n",
              "            (output): BertSelfOutput(\n",
              "              (dense): Linear(in_features=768, out_features=768, bias=True)\n",
              "              (LayerNorm): LayerNorm((768,), eps=1e-12, elementwise_affine=True)\n",
              "              (dropout): Dropout(p=0.1, inplace=False)\n",
              "            )\n",
              "          )\n",
              "          (intermediate): BertIntermediate(\n",
              "            (dense): Linear(in_features=768, out_features=3072, bias=True)\n",
              "          )\n",
              "          (output): BertOutput(\n",
              "            (dense): Linear(in_features=3072, out_features=768, bias=True)\n",
              "            (LayerNorm): LayerNorm((768,), eps=1e-12, elementwise_affine=True)\n",
              "            (dropout): Dropout(p=0.1, inplace=False)\n",
              "          )\n",
              "        )\n",
              "      )\n",
              "    )\n",
              "    (pooler): BertPooler(\n",
              "      (dense): Linear(in_features=768, out_features=768, bias=True)\n",
              "      (activation): Tanh()\n",
              "    )\n",
              "  )\n",
              "  (dropout): Dropout(p=0.1, inplace=False)\n",
              "  (classifier): Linear(in_features=768, out_features=4, bias=True)\n",
              ")>"
            ]
          },
          "metadata": {
            "tags": []
          },
          "execution_count": 30
        }
      ]
    },
    {
      "cell_type": "markdown",
      "metadata": {
        "id": "9T8DAt8oDmIf"
      },
      "source": [
        "### **訓練模型**"
      ]
    },
    {
      "cell_type": "code",
      "metadata": {
        "colab": {
          "base_uri": "https://localhost:8080/"
        },
        "id": "_6RzDMHy54SO",
        "outputId": "97d1b5c7-239b-4a10-b2b1-bd63c0865213"
      },
      "source": [
        "loss_values = []\n",
        "\n",
        "for epoch_i in range(epochs): \n",
        "    \n",
        "    # Training\n",
        "    print(f'[ Epoch {epoch_i+1} / {epochs} ]\\n')\n",
        "    t0 = time.time()\n",
        "    \n",
        "    modelBERT.train()\n",
        "    train_loss, train_accuracy = 0, 0\n",
        "    nb_train_steps = 0\n",
        "    for step, batch in enumerate(train_dataloader):\n",
        "        if step % 40 == 0 and not step == 0:\n",
        "            elapsed = format_time(time.time() - t0)\n",
        "            print('  Batch {:>5,}  of  {:>5,}.    Elapsed: {:}.'.format(step, len(train_dataloader), elapsed))\n",
        "        \n",
        "        b_input_ids = batch[0].to(device)\n",
        "        b_input_mask = batch[1].to(device)\n",
        "        b_labels = batch[2].to(device)\n",
        "        \n",
        "        modelBERT.zero_grad()        \n",
        "        outputs = modelBERT(b_input_ids, \n",
        "                        token_type_ids=None, \n",
        "                        attention_mask=b_input_mask,\n",
        "                        labels=b_labels)\n",
        "        loss = outputs[0]\n",
        "        train_loss += loss.item()        \n",
        "        loss.backward()\n",
        "        # torch.nn.utils.clip_grad_norm_(modelBERT.parameters(), 1.0)\n",
        "        \n",
        "        logits = outputs[1]\n",
        "        logits = logits.detach().cpu().numpy()\n",
        "        label_ids = b_labels.to('cpu').numpy()\n",
        "        tmp_train_accuracy = flat_accuracy(logits, label_ids)\n",
        "        train_accuracy += tmp_train_accuracy\n",
        "        nb_train_steps += 1\n",
        "        \n",
        "        optimizer.step()\n",
        "        scheduler.step()\n",
        "    \n",
        "    avg_train_loss = train_loss / len(train_dataloader)            \n",
        "    \n",
        "    loss_values.append(avg_train_loss)\n",
        "    print(\"  Average training loss: {0:.2f}, Accuracy: {1:.2f}\".format(avg_train_loss, train_accuracy/nb_train_steps))\n",
        "    print(\"  Training epcoh took: {:}\\n\".format(format_time(time.time() - t0)))\n",
        "        \n",
        "    # Validation\n",
        "    t0 = time.time()\n",
        "    \n",
        "    modelBERT.eval()\n",
        "    eval_accuracy = 0\n",
        "    nb_eval_steps = 0\n",
        "    for batch in validation_dataloader:\n",
        "        b_input_ids = batch[0].to(device)\n",
        "        b_input_mask = batch[1].to(device)\n",
        "        b_labels = batch[2].to(device)\n",
        "\n",
        "        with torch.no_grad():        \n",
        "            outputs = modelBERT(b_input_ids, \n",
        "                            token_type_ids=None, \n",
        "                            attention_mask=b_input_mask)\n",
        "        \n",
        "        logits = outputs[0]\n",
        "        logits = logits.detach().cpu().numpy()\n",
        "        label_ids = b_labels.to('cpu').numpy()\n",
        "        \n",
        "        tmp_eval_accuracy = flat_accuracy(logits, label_ids)\n",
        "        \n",
        "        eval_accuracy += tmp_eval_accuracy\n",
        "        nb_eval_steps += 1\n",
        "    print(\"  Accuracy: {0:.2f}\".format(eval_accuracy/nb_eval_steps))\n",
        "    print(\"  Validation took: {:}\\n\".format(format_time(time.time() - t0)))"
      ],
      "execution_count": null,
      "outputs": [
        {
          "output_type": "stream",
          "text": [
            "[ Epoch 1 / 4 ]\n",
            "\n",
            "  Batch    40  of    100.    Elapsed: 0:11:07.\n",
            "  Batch    80  of    100.    Elapsed: 0:22:11.\n",
            "  Average training loss: 0.72, Accuracy: 0.73\n",
            "  Training epcoh took: 0:27:36\n",
            "\n",
            "  Accuracy: 0.89\n",
            "  Validation took: 0:00:58\n",
            "\n",
            "[ Epoch 2 / 4 ]\n",
            "\n",
            "  Batch    40  of    100.    Elapsed: 0:11:04.\n",
            "  Batch    80  of    100.    Elapsed: 0:22:10.\n",
            "  Average training loss: 0.20, Accuracy: 0.94\n",
            "  Training epcoh took: 0:27:36\n",
            "\n",
            "  Accuracy: 0.91\n",
            "  Validation took: 0:00:58\n",
            "\n",
            "[ Epoch 3 / 4 ]\n",
            "\n",
            "  Batch    40  of    100.    Elapsed: 0:11:06.\n",
            "  Batch    80  of    100.    Elapsed: 0:22:10.\n",
            "  Average training loss: 0.11, Accuracy: 0.97\n",
            "  Training epcoh took: 0:27:34\n",
            "\n",
            "  Accuracy: 0.92\n",
            "  Validation took: 0:00:58\n",
            "\n",
            "[ Epoch 4 / 4 ]\n",
            "\n",
            "  Batch    40  of    100.    Elapsed: 0:11:03.\n",
            "  Batch    80  of    100.    Elapsed: 0:22:05.\n",
            "  Average training loss: 0.07, Accuracy: 0.98\n",
            "  Training epcoh took: 0:27:30\n",
            "\n",
            "  Accuracy: 0.92\n",
            "  Validation took: 0:00:58\n",
            "\n"
          ],
          "name": "stdout"
        }
      ]
    },
    {
      "cell_type": "markdown",
      "metadata": {
        "id": "r0U8UdnvDoxx"
      },
      "source": [
        "### 模型loss隨epoch數的變化"
      ]
    },
    {
      "cell_type": "code",
      "metadata": {
        "scrolled": false,
        "colab": {
          "base_uri": "https://localhost:8080/",
          "height": 542
        },
        "id": "bRtIT0At54SO",
        "outputId": "1ecab276-f952-42cf-cd6d-130ecde5ca9c"
      },
      "source": [
        "f = pd.DataFrame(loss_values)\n",
        "f.columns=['Loss']\n",
        "fig = px.line(f, x=f.index, y=f.Loss)\n",
        "fig.update_layout(title='Training loss of the Model',\n",
        "                  xaxis_title='Epoch',\n",
        "                  yaxis_title='Loss')\n",
        "fig.show()"
      ],
      "execution_count": null,
      "outputs": [
        {
          "output_type": "display_data",
          "data": {
            "text/html": [
              "<html>\n",
              "<head><meta charset=\"utf-8\" /></head>\n",
              "<body>\n",
              "    <div>\n",
              "            <script src=\"https://cdnjs.cloudflare.com/ajax/libs/mathjax/2.7.5/MathJax.js?config=TeX-AMS-MML_SVG\"></script><script type=\"text/javascript\">if (window.MathJax) {MathJax.Hub.Config({SVG: {font: \"STIX-Web\"}});}</script>\n",
              "                <script type=\"text/javascript\">window.PlotlyConfig = {MathJaxConfig: 'local'};</script>\n",
              "        <script src=\"https://cdn.plot.ly/plotly-latest.min.js\"></script>    \n",
              "            <div id=\"8041fb22-1577-455b-86b8-91f42d16f732\" class=\"plotly-graph-div\" style=\"height:525px; width:100%;\"></div>\n",
              "            <script type=\"text/javascript\">\n",
              "                \n",
              "                    window.PLOTLYENV=window.PLOTLYENV || {};\n",
              "                    \n",
              "                if (document.getElementById(\"8041fb22-1577-455b-86b8-91f42d16f732\")) {\n",
              "                    Plotly.newPlot(\n",
              "                        '8041fb22-1577-455b-86b8-91f42d16f732',\n",
              "                        [{\"hoverlabel\": {\"namelength\": 0}, \"hovertemplate\": \"index=%{x}<br>Loss=%{y}\", \"legendgroup\": \"\", \"line\": {\"color\": \"#636efa\", \"dash\": \"solid\"}, \"mode\": \"lines\", \"name\": \"\", \"showlegend\": false, \"type\": \"scatter\", \"x\": [0, 1, 2, 3], \"xaxis\": \"x\", \"y\": [0.7157186264544726, 0.19789604123681784, 0.11201445238664746, 0.07099275243468582], \"yaxis\": \"y\"}],\n",
              "                        {\"legend\": {\"tracegroupgap\": 0}, \"margin\": {\"t\": 60}, \"template\": {\"data\": {\"bar\": [{\"error_x\": {\"color\": \"#2a3f5f\"}, \"error_y\": {\"color\": \"#2a3f5f\"}, \"marker\": {\"line\": {\"color\": \"#E5ECF6\", \"width\": 0.5}}, \"type\": \"bar\"}], \"barpolar\": [{\"marker\": {\"line\": {\"color\": \"#E5ECF6\", \"width\": 0.5}}, \"type\": \"barpolar\"}], \"carpet\": [{\"aaxis\": {\"endlinecolor\": \"#2a3f5f\", \"gridcolor\": \"white\", \"linecolor\": \"white\", \"minorgridcolor\": \"white\", \"startlinecolor\": \"#2a3f5f\"}, \"baxis\": {\"endlinecolor\": \"#2a3f5f\", \"gridcolor\": \"white\", \"linecolor\": \"white\", \"minorgridcolor\": \"white\", \"startlinecolor\": \"#2a3f5f\"}, \"type\": \"carpet\"}], \"choropleth\": [{\"colorbar\": {\"outlinewidth\": 0, \"ticks\": \"\"}, \"type\": \"choropleth\"}], \"contour\": [{\"colorbar\": {\"outlinewidth\": 0, \"ticks\": \"\"}, \"colorscale\": [[0.0, \"#0d0887\"], [0.1111111111111111, \"#46039f\"], [0.2222222222222222, \"#7201a8\"], [0.3333333333333333, \"#9c179e\"], [0.4444444444444444, \"#bd3786\"], [0.5555555555555556, \"#d8576b\"], [0.6666666666666666, \"#ed7953\"], [0.7777777777777778, \"#fb9f3a\"], [0.8888888888888888, \"#fdca26\"], [1.0, \"#f0f921\"]], \"type\": \"contour\"}], \"contourcarpet\": [{\"colorbar\": {\"outlinewidth\": 0, \"ticks\": \"\"}, \"type\": \"contourcarpet\"}], \"heatmap\": [{\"colorbar\": {\"outlinewidth\": 0, \"ticks\": \"\"}, \"colorscale\": [[0.0, \"#0d0887\"], [0.1111111111111111, \"#46039f\"], [0.2222222222222222, \"#7201a8\"], [0.3333333333333333, \"#9c179e\"], [0.4444444444444444, \"#bd3786\"], [0.5555555555555556, \"#d8576b\"], [0.6666666666666666, \"#ed7953\"], [0.7777777777777778, \"#fb9f3a\"], [0.8888888888888888, \"#fdca26\"], [1.0, \"#f0f921\"]], \"type\": \"heatmap\"}], \"heatmapgl\": [{\"colorbar\": {\"outlinewidth\": 0, \"ticks\": \"\"}, \"colorscale\": [[0.0, \"#0d0887\"], [0.1111111111111111, \"#46039f\"], [0.2222222222222222, \"#7201a8\"], [0.3333333333333333, \"#9c179e\"], [0.4444444444444444, \"#bd3786\"], [0.5555555555555556, \"#d8576b\"], [0.6666666666666666, \"#ed7953\"], [0.7777777777777778, \"#fb9f3a\"], [0.8888888888888888, \"#fdca26\"], [1.0, \"#f0f921\"]], \"type\": \"heatmapgl\"}], \"histogram\": [{\"marker\": {\"colorbar\": {\"outlinewidth\": 0, \"ticks\": \"\"}}, \"type\": \"histogram\"}], \"histogram2d\": [{\"colorbar\": {\"outlinewidth\": 0, \"ticks\": \"\"}, \"colorscale\": [[0.0, \"#0d0887\"], [0.1111111111111111, \"#46039f\"], [0.2222222222222222, \"#7201a8\"], [0.3333333333333333, \"#9c179e\"], [0.4444444444444444, \"#bd3786\"], [0.5555555555555556, \"#d8576b\"], [0.6666666666666666, \"#ed7953\"], [0.7777777777777778, \"#fb9f3a\"], [0.8888888888888888, \"#fdca26\"], [1.0, \"#f0f921\"]], \"type\": \"histogram2d\"}], \"histogram2dcontour\": [{\"colorbar\": {\"outlinewidth\": 0, \"ticks\": \"\"}, \"colorscale\": [[0.0, \"#0d0887\"], [0.1111111111111111, \"#46039f\"], [0.2222222222222222, \"#7201a8\"], [0.3333333333333333, \"#9c179e\"], [0.4444444444444444, \"#bd3786\"], [0.5555555555555556, \"#d8576b\"], [0.6666666666666666, \"#ed7953\"], [0.7777777777777778, \"#fb9f3a\"], [0.8888888888888888, \"#fdca26\"], [1.0, \"#f0f921\"]], \"type\": \"histogram2dcontour\"}], \"mesh3d\": [{\"colorbar\": {\"outlinewidth\": 0, \"ticks\": \"\"}, \"type\": \"mesh3d\"}], \"parcoords\": [{\"line\": {\"colorbar\": {\"outlinewidth\": 0, \"ticks\": \"\"}}, \"type\": \"parcoords\"}], \"pie\": [{\"automargin\": true, \"type\": \"pie\"}], \"scatter\": [{\"marker\": {\"colorbar\": {\"outlinewidth\": 0, \"ticks\": \"\"}}, \"type\": \"scatter\"}], \"scatter3d\": [{\"line\": {\"colorbar\": {\"outlinewidth\": 0, \"ticks\": \"\"}}, \"marker\": {\"colorbar\": {\"outlinewidth\": 0, \"ticks\": \"\"}}, \"type\": \"scatter3d\"}], \"scattercarpet\": [{\"marker\": {\"colorbar\": {\"outlinewidth\": 0, \"ticks\": \"\"}}, \"type\": \"scattercarpet\"}], \"scattergeo\": [{\"marker\": {\"colorbar\": {\"outlinewidth\": 0, \"ticks\": \"\"}}, \"type\": \"scattergeo\"}], \"scattergl\": [{\"marker\": {\"colorbar\": {\"outlinewidth\": 0, \"ticks\": \"\"}}, \"type\": \"scattergl\"}], \"scattermapbox\": [{\"marker\": {\"colorbar\": {\"outlinewidth\": 0, \"ticks\": \"\"}}, \"type\": \"scattermapbox\"}], \"scatterpolar\": [{\"marker\": {\"colorbar\": {\"outlinewidth\": 0, \"ticks\": \"\"}}, \"type\": \"scatterpolar\"}], \"scatterpolargl\": [{\"marker\": {\"colorbar\": {\"outlinewidth\": 0, \"ticks\": \"\"}}, \"type\": \"scatterpolargl\"}], \"scatterternary\": [{\"marker\": {\"colorbar\": {\"outlinewidth\": 0, \"ticks\": \"\"}}, \"type\": \"scatterternary\"}], \"surface\": [{\"colorbar\": {\"outlinewidth\": 0, \"ticks\": \"\"}, \"colorscale\": [[0.0, \"#0d0887\"], [0.1111111111111111, \"#46039f\"], [0.2222222222222222, \"#7201a8\"], [0.3333333333333333, \"#9c179e\"], [0.4444444444444444, \"#bd3786\"], [0.5555555555555556, \"#d8576b\"], [0.6666666666666666, \"#ed7953\"], [0.7777777777777778, \"#fb9f3a\"], [0.8888888888888888, \"#fdca26\"], [1.0, \"#f0f921\"]], \"type\": \"surface\"}], \"table\": [{\"cells\": {\"fill\": {\"color\": \"#EBF0F8\"}, \"line\": {\"color\": \"white\"}}, \"header\": {\"fill\": {\"color\": \"#C8D4E3\"}, \"line\": {\"color\": \"white\"}}, \"type\": \"table\"}]}, \"layout\": {\"annotationdefaults\": {\"arrowcolor\": \"#2a3f5f\", \"arrowhead\": 0, \"arrowwidth\": 1}, \"coloraxis\": {\"colorbar\": {\"outlinewidth\": 0, \"ticks\": \"\"}}, \"colorscale\": {\"diverging\": [[0, \"#8e0152\"], [0.1, \"#c51b7d\"], [0.2, \"#de77ae\"], [0.3, \"#f1b6da\"], [0.4, \"#fde0ef\"], [0.5, \"#f7f7f7\"], [0.6, \"#e6f5d0\"], [0.7, \"#b8e186\"], [0.8, \"#7fbc41\"], [0.9, \"#4d9221\"], [1, \"#276419\"]], \"sequential\": [[0.0, \"#0d0887\"], [0.1111111111111111, \"#46039f\"], [0.2222222222222222, \"#7201a8\"], [0.3333333333333333, \"#9c179e\"], [0.4444444444444444, \"#bd3786\"], [0.5555555555555556, \"#d8576b\"], [0.6666666666666666, \"#ed7953\"], [0.7777777777777778, \"#fb9f3a\"], [0.8888888888888888, \"#fdca26\"], [1.0, \"#f0f921\"]], \"sequentialminus\": [[0.0, \"#0d0887\"], [0.1111111111111111, \"#46039f\"], [0.2222222222222222, \"#7201a8\"], [0.3333333333333333, \"#9c179e\"], [0.4444444444444444, \"#bd3786\"], [0.5555555555555556, \"#d8576b\"], [0.6666666666666666, \"#ed7953\"], [0.7777777777777778, \"#fb9f3a\"], [0.8888888888888888, \"#fdca26\"], [1.0, \"#f0f921\"]]}, \"colorway\": [\"#636efa\", \"#EF553B\", \"#00cc96\", \"#ab63fa\", \"#FFA15A\", \"#19d3f3\", \"#FF6692\", \"#B6E880\", \"#FF97FF\", \"#FECB52\"], \"font\": {\"color\": \"#2a3f5f\"}, \"geo\": {\"bgcolor\": \"white\", \"lakecolor\": \"white\", \"landcolor\": \"#E5ECF6\", \"showlakes\": true, \"showland\": true, \"subunitcolor\": \"white\"}, \"hoverlabel\": {\"align\": \"left\"}, \"hovermode\": \"closest\", \"mapbox\": {\"style\": \"light\"}, \"paper_bgcolor\": \"white\", \"plot_bgcolor\": \"#E5ECF6\", \"polar\": {\"angularaxis\": {\"gridcolor\": \"white\", \"linecolor\": \"white\", \"ticks\": \"\"}, \"bgcolor\": \"#E5ECF6\", \"radialaxis\": {\"gridcolor\": \"white\", \"linecolor\": \"white\", \"ticks\": \"\"}}, \"scene\": {\"xaxis\": {\"backgroundcolor\": \"#E5ECF6\", \"gridcolor\": \"white\", \"gridwidth\": 2, \"linecolor\": \"white\", \"showbackground\": true, \"ticks\": \"\", \"zerolinecolor\": \"white\"}, \"yaxis\": {\"backgroundcolor\": \"#E5ECF6\", \"gridcolor\": \"white\", \"gridwidth\": 2, \"linecolor\": \"white\", \"showbackground\": true, \"ticks\": \"\", \"zerolinecolor\": \"white\"}, \"zaxis\": {\"backgroundcolor\": \"#E5ECF6\", \"gridcolor\": \"white\", \"gridwidth\": 2, \"linecolor\": \"white\", \"showbackground\": true, \"ticks\": \"\", \"zerolinecolor\": \"white\"}}, \"shapedefaults\": {\"line\": {\"color\": \"#2a3f5f\"}}, \"ternary\": {\"aaxis\": {\"gridcolor\": \"white\", \"linecolor\": \"white\", \"ticks\": \"\"}, \"baxis\": {\"gridcolor\": \"white\", \"linecolor\": \"white\", \"ticks\": \"\"}, \"bgcolor\": \"#E5ECF6\", \"caxis\": {\"gridcolor\": \"white\", \"linecolor\": \"white\", \"ticks\": \"\"}}, \"title\": {\"x\": 0.05}, \"xaxis\": {\"automargin\": true, \"gridcolor\": \"white\", \"linecolor\": \"white\", \"ticks\": \"\", \"title\": {\"standoff\": 15}, \"zerolinecolor\": \"white\", \"zerolinewidth\": 2}, \"yaxis\": {\"automargin\": true, \"gridcolor\": \"white\", \"linecolor\": \"white\", \"ticks\": \"\", \"title\": {\"standoff\": 15}, \"zerolinecolor\": \"white\", \"zerolinewidth\": 2}}}, \"title\": {\"text\": \"Training loss of the Model\"}, \"xaxis\": {\"anchor\": \"y\", \"domain\": [0.0, 1.0], \"title\": {\"text\": \"Epoch\"}}, \"yaxis\": {\"anchor\": \"x\", \"domain\": [0.0, 1.0], \"title\": {\"text\": \"Loss\"}}},\n",
              "                        {\"responsive\": true}\n",
              "                    ).then(function(){\n",
              "                            \n",
              "var gd = document.getElementById('8041fb22-1577-455b-86b8-91f42d16f732');\n",
              "var x = new MutationObserver(function (mutations, observer) {{\n",
              "        var display = window.getComputedStyle(gd).display;\n",
              "        if (!display || display === 'none') {{\n",
              "            console.log([gd, 'removed!']);\n",
              "            Plotly.purge(gd);\n",
              "            observer.disconnect();\n",
              "        }}\n",
              "}});\n",
              "\n",
              "// Listen for the removal of the full notebook cells\n",
              "var notebookContainer = gd.closest('#notebook-container');\n",
              "if (notebookContainer) {{\n",
              "    x.observe(notebookContainer, {childList: true});\n",
              "}}\n",
              "\n",
              "// Listen for the clearing of the current output cell\n",
              "var outputEl = gd.closest('.output');\n",
              "if (outputEl) {{\n",
              "    x.observe(outputEl, {childList: true});\n",
              "}}\n",
              "\n",
              "                        })\n",
              "                };\n",
              "                \n",
              "            </script>\n",
              "        </div>\n",
              "</body>\n",
              "</html>"
            ]
          },
          "metadata": {
            "tags": []
          }
        }
      ]
    },
    {
      "cell_type": "markdown",
      "metadata": {
        "id": "r8Sk8mrU54SO"
      },
      "source": [
        "### **測試模型表現**"
      ]
    },
    {
      "cell_type": "code",
      "metadata": {
        "colab": {
          "base_uri": "https://localhost:8080/"
        },
        "id": "eeGjvuRf54SP",
        "outputId": "cc535e64-e70b-4115-fd8f-e81f97a42954"
      },
      "source": [
        "test_dataloader = generate_dataloader(ts_inputs, ts_labels, batch_size, 'Test', masks = ts_masks)"
      ],
      "execution_count": null,
      "outputs": [
        {
          "output_type": "stream",
          "text": [
            "Testing Data Length: 394\n",
            "Test DataLoader Constructed.\n"
          ],
          "name": "stdout"
        }
      ]
    },
    {
      "cell_type": "code",
      "metadata": {
        "colab": {
          "base_uri": "https://localhost:8080/"
        },
        "id": "YI-d5FMe54SP",
        "outputId": "2a173326-b044-4bae-bdeb-8298e1a1be4d"
      },
      "source": [
        "modelBERT.eval()\n",
        "predictions , true_labels = [], []\n",
        "\n",
        "test_accuracy = 0\n",
        "nb_test_steps = 0\n",
        "for batch in test_dataloader:\n",
        "    b_input_ids = batch[0].to(device)\n",
        "    b_input_mask = batch[1].to(device)\n",
        "    b_labels = batch[2].to(device)\n",
        "    with torch.no_grad():\n",
        "        outputs = modelBERT(b_input_ids,\n",
        "                        token_type_ids=None,\n",
        "                        attention_mask=b_input_mask)\n",
        "    logits = outputs[0]\n",
        "    # Move logits and labels to CPU\n",
        "    logits = logits.detach().cpu().numpy()\n",
        "    label_ids = b_labels.to('cpu').numpy()\n",
        "    \n",
        "    tmp_test_accuracy = flat_accuracy(logits, label_ids)  \n",
        "    test_accuracy += tmp_test_accuracy\n",
        "    nb_test_steps += 1\n",
        "    \n",
        "    predictions.append(logits)\n",
        "    true_labels.append(label_ids)\n",
        "    \n",
        "print(\"  Accuracy: {0:.2f}\".format(test_accuracy/nb_test_steps))"
      ],
      "execution_count": null,
      "outputs": [
        {
          "output_type": "stream",
          "text": [
            "  Accuracy: 0.94\n"
          ],
          "name": "stdout"
        }
      ]
    },
    {
      "cell_type": "code",
      "metadata": {
        "id": "fstzLdH954SQ"
      },
      "source": [
        ""
      ],
      "execution_count": null,
      "outputs": []
    }
  ]
}